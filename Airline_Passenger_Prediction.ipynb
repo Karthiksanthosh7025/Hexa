{
  "cells": [
    {
      "cell_type": "markdown",
      "metadata": {
        "id": "view-in-github",
        "colab_type": "text"
      },
      "source": [
        "<a href=\"https://colab.research.google.com/github/Karthiksanthosh7025/Hexa/blob/master/Airline_Passenger_Prediction.ipynb\" target=\"_parent\"><img src=\"https://colab.research.google.com/assets/colab-badge.svg\" alt=\"Open In Colab\"/></a>"
      ]
    },
    {
      "cell_type": "code",
      "execution_count": null,
      "metadata": {
        "id": "ewCo0s2tcGP9"
      },
      "outputs": [],
      "source": [
        "import numpy as np\n",
        "import pandas as pd\n",
        "\n",
        "import seaborn as sns\n",
        "import matplotlib.pyplot as plt\n",
        "\n",
        "from sklearn.impute import KNNImputer\n",
        "import string\n",
        "import re\n",
        "from nltk.corpus import stopwords\n",
        "import nltk\n",
        "nltk.download('stopwords')\n",
        "nltk.download('punkt')\n",
        "\n",
        "from sklearn.feature_extraction.text import TfidfVectorizer\n",
        "from scipy.sparse import csr_matrix, hstack\n",
        "\n",
        "from sklearn.model_selection import train_test_split\n",
        "\n",
        "from sklearn.linear_model import LogisticRegression\n",
        "from sklearn.ensemble import RandomForestClassifier\n",
        "from sklearn.ensemble import AdaBoostClassifier\n",
        "import xgboost as xgb\n",
        "from sklearn.tree import DecisionTreeClassifier\n",
        "\n",
        "from sklearn.metrics import confusion_matrix, classification_report, f1_score\n",
        "\n",
        "from transformers import (\n",
        "    AutoTokenizer,\n",
        "    AutoModel,\n",
        "    get_linear_schedule_with_warmup,\n",
        "    BertModel,\n",
        "    BertTokenizer,\n",
        "    BertTokenizerFast,\n",
        "    BertForSequenceClassification,\n",
        "    AdamW\n",
        ")\n",
        "\n",
        "import collections\n",
        "from tqdm.notebook import tqdm\n",
        "import torch\n",
        "import torch.nn as nn\n",
        "import torch.nn.functional as F\n",
        "from torch import optim\n",
        "from tensorflow.keras.preprocessing.sequence import pad_sequences\n",
        "from torch.utils.data import TensorDataset, DataLoader, RandomSampler, SequentialSampler"
      ]
    },
    {
      "cell_type": "code",
      "execution_count": null,
      "metadata": {
        "id": "45XfWCMgdIuP"
      },
      "outputs": [],
      "source": [
        "from google.colab import drive\n",
        "\n",
        "#mount Google drive to Colab\n",
        "drive.mount('/content/drive')"
      ]
    },
    {
      "cell_type": "code",
      "execution_count": null,
      "metadata": {
        "id": "h4m7ZMlicihi"
      },
      "outputs": [],
      "source": [
        "#Importing the dataset\n",
        "import pandas as pd\n",
        "\n",
        "dataset_file_path = \"/content/drive/MyDrive/Project 2023/Airline_review.csv\"\n",
        "#Reading Data and Loading contents in Dataframe\n",
        "df = pd.read_csv(dataset_file_path)"
      ]
    },
    {
      "cell_type": "code",
      "execution_count": null,
      "metadata": {
        "id": "vq3JEqG9cmfB"
      },
      "outputs": [],
      "source": [
        "df.head()"
      ]
    },
    {
      "cell_type": "code",
      "execution_count": null,
      "metadata": {
        "id": "ACW_XiJUc7Fh"
      },
      "outputs": [],
      "source": [
        "#Checking the number of rows and columns in dataset\n",
        "df.shape"
      ]
    },
    {
      "cell_type": "code",
      "execution_count": null,
      "metadata": {
        "id": "srXf-p4Lctbm"
      },
      "outputs": [],
      "source": [
        "#Checking for columns, their data types\n",
        "df.info()"
      ]
    },
    {
      "cell_type": "code",
      "execution_count": null,
      "metadata": {
        "id": "lSpwzzV3c1Cq"
      },
      "outputs": [],
      "source": [
        "#Checking count of unique values\n",
        "col_counts = df.nunique()\n",
        "print(col_counts)"
      ]
    },
    {
      "cell_type": "code",
      "execution_count": null,
      "metadata": {
        "id": "xORbbrV7do-J"
      },
      "outputs": [],
      "source": [
        "#Dropping Unnamed column since it does not convey anything\n",
        "df.drop('Unnamed: 0',axis=1,inplace=True)"
      ]
    },
    {
      "cell_type": "code",
      "execution_count": null,
      "metadata": {
        "id": "IzsRnIePdd55"
      },
      "outputs": [],
      "source": [
        "#Checking for duplicates\n",
        "df.duplicated().value_counts()"
      ]
    },
    {
      "cell_type": "code",
      "execution_count": null,
      "metadata": {
        "id": "u2RwgCiYdf-V"
      },
      "outputs": [],
      "source": [
        "#Since there are duplicates identified which need to be dropped\n",
        "#thus dropping duplicates\n",
        "df= df.drop_duplicates()"
      ]
    },
    {
      "cell_type": "code",
      "execution_count": null,
      "metadata": {
        "id": "VGoIGKCFd1Ya"
      },
      "outputs": [],
      "source": [
        "df.shape"
      ]
    },
    {
      "cell_type": "code",
      "execution_count": null,
      "metadata": {
        "id": "V-4jj4SxeTVA"
      },
      "outputs": [],
      "source": [
        "#Checking for null values count in columns\n",
        "df.isnull().sum()"
      ]
    },
    {
      "cell_type": "markdown",
      "metadata": {
        "id": "0iKS9TEBhD6-"
      },
      "source": [
        "# **Exploratory Data Analysis**"
      ]
    },
    {
      "cell_type": "code",
      "execution_count": null,
      "metadata": {
        "id": "rrxh_A6IepC1"
      },
      "outputs": [],
      "source": [
        "def extract_year(x):\n",
        "    x = str(x)\n",
        "    return x[-4:]\n",
        "\n",
        "df['year_flown'] = df['Date Flown'].apply(extract_year)\n",
        "\n",
        "df['year_flown'].value_counts().plot(kind=\"pie\", autopct= '%1.1f%%')"
      ]
    },
    {
      "cell_type": "code",
      "execution_count": null,
      "metadata": {
        "id": "K9Gv3FAVhrcg"
      },
      "outputs": [],
      "source": [
        "df['Type Of Traveller'].value_counts().plot(kind=\"pie\", autopct= '%1.1f%%', startangle= 90)"
      ]
    },
    {
      "cell_type": "code",
      "execution_count": null,
      "metadata": {
        "id": "y9NXzzdBqqht"
      },
      "outputs": [],
      "source": [
        "df['Seat Type'].value_counts().plot(kind=\"pie\", autopct= '%1.1f%%')"
      ]
    },
    {
      "cell_type": "code",
      "execution_count": null,
      "metadata": {
        "id": "T72Vcac-vj79"
      },
      "outputs": [],
      "source": [
        "df['Overall_Rating'].value_counts().sort_index()"
      ]
    },
    {
      "cell_type": "code",
      "execution_count": null,
      "metadata": {
        "id": "-r0S7uZNtijO"
      },
      "outputs": [],
      "source": [
        "rating_count= df['Overall_Rating'].value_counts().sort_index()\n",
        "plt.bar(rating_count.index, rating_count.values, color= 'blue')\n",
        "plt.xlabel('Rating')\n",
        "plt.ylabel('Count')\n",
        "plt.title('Count of Ratings')\n",
        "\n",
        "plt.show()"
      ]
    },
    {
      "cell_type": "code",
      "execution_count": null,
      "metadata": {
        "id": "SRRWi6aDvqze"
      },
      "outputs": [],
      "source": [
        "df['Seat Type'].value_counts().sort_index()"
      ]
    },
    {
      "cell_type": "code",
      "execution_count": null,
      "metadata": {
        "id": "Rh0bzx6duk17"
      },
      "outputs": [],
      "source": [
        "seat_type_count= df['Seat Type'].value_counts().sort_index()\n",
        "plt.bar(seat_type_count.index, seat_type_count.values, color= 'blue')\n",
        "plt.xlabel('Seat Type')\n",
        "plt.ylabel('Count')\n",
        "plt.title('Count of Seat Type')\n",
        "\n",
        "plt.show()"
      ]
    },
    {
      "cell_type": "code",
      "execution_count": null,
      "metadata": {
        "id": "418Cr11ivtX8"
      },
      "outputs": [],
      "source": [
        "df['Seat Comfort'].value_counts().sort_index()"
      ]
    },
    {
      "cell_type": "code",
      "execution_count": null,
      "metadata": {
        "id": "ODSJA7_VvAOT"
      },
      "outputs": [],
      "source": [
        "seat_comfort_count= df['Seat Comfort'].value_counts().sort_index()\n",
        "plt.bar(seat_comfort_count.index, seat_comfort_count.values, color= 'blue')\n",
        "plt.xlabel('Seat Comfort')\n",
        "plt.ylabel('Count')\n",
        "plt.title('Count of Seat Comfort Ratings')\n",
        "\n",
        "plt.show()"
      ]
    },
    {
      "cell_type": "code",
      "execution_count": null,
      "metadata": {
        "id": "W-fjtelkvxAL"
      },
      "outputs": [],
      "source": [
        "df['Cabin Staff Service'].value_counts().sort_index()"
      ]
    },
    {
      "cell_type": "code",
      "execution_count": null,
      "metadata": {
        "id": "tnxygJzwvxbr"
      },
      "outputs": [],
      "source": [
        "cabin_service_count= df['Cabin Staff Service'].value_counts().sort_index()\n",
        "plt.bar(cabin_service_count.index, cabin_service_count.values, color= 'blue')\n",
        "plt.xlabel('Cabin Staff Service')\n",
        "plt.ylabel('Count')\n",
        "plt.title('Count of Cabin Staff Service Ratings')\n",
        "\n",
        "plt.show()"
      ]
    },
    {
      "cell_type": "code",
      "execution_count": null,
      "metadata": {
        "id": "e5pH5bXXwYtt"
      },
      "outputs": [],
      "source": [
        "fd_bev_count= df['Food & Beverages'].value_counts().sort_index()\n",
        "fd_bev_count"
      ]
    },
    {
      "cell_type": "code",
      "execution_count": null,
      "metadata": {
        "id": "SZT8vmtBwfeM"
      },
      "outputs": [],
      "source": [
        "plt.bar(fd_bev_count.index, fd_bev_count.values, color= 'blue')\n",
        "plt.xlabel('Food & Beverages Service')\n",
        "plt.ylabel('Count')\n",
        "plt.title('Count of Food & Beverages Service Ratings')\n",
        "\n",
        "plt.show()"
      ]
    },
    {
      "cell_type": "code",
      "execution_count": null,
      "metadata": {
        "id": "zFWZDBiBwwd7"
      },
      "outputs": [],
      "source": [
        "Ground_Service_count= df['Ground Service'].value_counts().sort_index()\n",
        "Ground_Service_count"
      ]
    },
    {
      "cell_type": "code",
      "execution_count": null,
      "metadata": {
        "id": "mJd-Xfqbw2yG"
      },
      "outputs": [],
      "source": [
        "plt.bar(Ground_Service_count.index, Ground_Service_count.values, color= 'blue')\n",
        "plt.xlabel('Ground Service')\n",
        "plt.ylabel('Count')\n",
        "plt.title('Count of Ground Service Ratings')\n",
        "\n",
        "plt.show()"
      ]
    },
    {
      "cell_type": "code",
      "execution_count": null,
      "metadata": {
        "id": "wlT-0vEDxDoK"
      },
      "outputs": [],
      "source": [
        "Inflight_Entertainment_count= df['Inflight Entertainment'].value_counts().sort_index()\n",
        "Inflight_Entertainment_count"
      ]
    },
    {
      "cell_type": "code",
      "execution_count": null,
      "metadata": {
        "id": "TsXPJ8VaxEL4"
      },
      "outputs": [],
      "source": [
        "plt.bar(Inflight_Entertainment_count.index, Inflight_Entertainment_count.values, color= 'blue')\n",
        "plt.xlabel('Inflight Entertainment')\n",
        "plt.ylabel('Count')\n",
        "plt.title('Count of Inflight Entertainment Ratings')\n",
        "\n",
        "plt.show()"
      ]
    },
    {
      "cell_type": "code",
      "execution_count": null,
      "metadata": {
        "id": "Md7w7QaaxWxk"
      },
      "outputs": [],
      "source": [
        "Wifi_Connectivity_count= df['Wifi & Connectivity'].value_counts().sort_index()\n",
        "Wifi_Connectivity_count"
      ]
    },
    {
      "cell_type": "code",
      "execution_count": null,
      "metadata": {
        "id": "yQ257U6IxXnc"
      },
      "outputs": [],
      "source": [
        "plt.bar(Wifi_Connectivity_count.index, Wifi_Connectivity_count.values, color= 'blue')\n",
        "plt.xlabel('Wifi & Connectivity')\n",
        "plt.ylabel('Count')\n",
        "plt.title('Count of Wifi & Connectivity Ratings')\n",
        "\n",
        "plt.show()"
      ]
    },
    {
      "cell_type": "code",
      "execution_count": null,
      "metadata": {
        "id": "nkOn-wtZxbSn"
      },
      "outputs": [],
      "source": [
        "Value_For_Money_count= df['Value For Money'].value_counts().sort_index()\n",
        "Value_For_Money_count"
      ]
    },
    {
      "cell_type": "code",
      "execution_count": null,
      "metadata": {
        "id": "7ycfWSG7xZ7o"
      },
      "outputs": [],
      "source": [
        "plt.bar(Value_For_Money_count.index, Value_For_Money_count.values, color= 'blue')\n",
        "plt.xlabel('Value For Money')\n",
        "plt.ylabel('Count')\n",
        "plt.title('Count of Value For Money Ratings')\n",
        "\n",
        "plt.show()"
      ]
    },
    {
      "cell_type": "code",
      "execution_count": null,
      "metadata": {
        "id": "GaVE82rAx86Y"
      },
      "outputs": [],
      "source": [
        "df['Recommended'].value_counts().plot(kind=\"pie\", autopct= '%1.1f%%', startangle= 90)"
      ]
    },
    {
      "cell_type": "markdown",
      "metadata": {
        "id": "Ic1qUtEZvo8I"
      },
      "source": [
        "# **Imputing Missing Values**"
      ]
    },
    {
      "cell_type": "code",
      "execution_count": null,
      "metadata": {
        "id": "E6Jyx_G9xELT"
      },
      "outputs": [],
      "source": [
        "#Dropping Airline name and Aircraft due to ethical considerations\n",
        "df.drop(['Airline Name', 'Aircraft', 'Route', 'Date Flown', 'year_flown', 'Review Date', 'Verified'], axis=1, inplace=True)"
      ]
    },
    {
      "cell_type": "code",
      "execution_count": null,
      "metadata": {
        "id": "QDLJw8TSlMLh"
      },
      "outputs": [],
      "source": [
        "#Checking for null values count in columns\n",
        "df.isnull().sum()"
      ]
    },
    {
      "cell_type": "code",
      "execution_count": null,
      "metadata": {
        "id": "m5Bywpi0wK6m"
      },
      "outputs": [],
      "source": [
        "#Forward-fill: Filling with previous valid value\n",
        "df['Type Of Traveller'] = df['Type Of Traveller'].fillna(method='ffill')\n",
        "df['Seat Type'] = df['Seat Type'].fillna(method='ffill')\n",
        "df['Overall_Rating']=df['Overall_Rating'].replace('n',10)\n",
        "df['Overall_Rating']=df['Overall_Rating'].astype(int)"
      ]
    },
    {
      "cell_type": "code",
      "execution_count": null,
      "metadata": {
        "id": "MNG5dpbiw6gv"
      },
      "outputs": [],
      "source": [
        "cols_to_be_imputed= ['Seat Comfort', 'Cabin Staff Service', 'Ground Service',\n",
        "                     'Food & Beverages', 'Inflight Entertainment', 'Wifi & Connectivity',\n",
        "                     'Value For Money']\n",
        "\n",
        "imptr = KNNImputer(n_neighbors=5)\n",
        "\n",
        "for i in cols_to_be_imputed:\n",
        "  #Fetching column where value needs to be filled\n",
        "  col = df[[i]].values.reshape(-1, 1)\n",
        "\n",
        "  #Imputing values using KNN\n",
        "  filled_vals = imptr.fit_transform(col)\n",
        "\n",
        "  #Rounding off the filled values to the nearest integers and updating it in the original dataframe\n",
        "  rounded_filled_vals = np.round(filled_vals)\n",
        "\n",
        "  df[i] = rounded_filled_vals"
      ]
    },
    {
      "cell_type": "code",
      "execution_count": null,
      "metadata": {
        "id": "1cJ4zQ9323U0"
      },
      "outputs": [],
      "source": [
        "#Checking for null values count in columns\n",
        "df.isnull().sum()"
      ]
    },
    {
      "cell_type": "markdown",
      "metadata": {
        "id": "xAhauYWt3ftM"
      },
      "source": [
        "# **Mapping Categorical Column to Numeric Values**"
      ]
    },
    {
      "cell_type": "code",
      "execution_count": null,
      "metadata": {
        "id": "FgHT3PDO5eVL"
      },
      "outputs": [],
      "source": [
        "df['Recommended']=df['Recommended'].map({'no':0,'yes':1})"
      ]
    },
    {
      "cell_type": "code",
      "execution_count": null,
      "metadata": {
        "id": "pE9NydNo5ln0"
      },
      "outputs": [],
      "source": [
        "#Encoding Categorical cols to Numeric cols except Review_Title and Review\n",
        "enc_df = pd.get_dummies(df, columns=['Type Of Traveller'], prefix = ['Traveller_Type'],dtype=int)\n",
        "enc_df=pd.get_dummies(enc_df, columns=['Seat Type'], prefix = ['Seat_Type'],dtype=int)"
      ]
    },
    {
      "cell_type": "code",
      "execution_count": null,
      "metadata": {
        "id": "3k0sCp337ma1"
      },
      "outputs": [],
      "source": [
        "enc_df.shape"
      ]
    },
    {
      "cell_type": "code",
      "execution_count": null,
      "metadata": {
        "id": "ZnC_8PtO7HRD"
      },
      "outputs": [],
      "source": [
        "enc_df.head()"
      ]
    },
    {
      "cell_type": "code",
      "execution_count": null,
      "metadata": {
        "id": "zzuHt_gF7Itv"
      },
      "outputs": [],
      "source": [
        "#Finding Correlation excluding Review and Review_Title column\n",
        "corr_enc_df= enc_df.drop(['Review_Title', 'Review'], axis=1)\n"
      ]
    },
    {
      "cell_type": "code",
      "execution_count": null,
      "metadata": {
        "colab": {
          "base_uri": "https://localhost:8080/",
          "height": 681
        },
        "id": "DJqLi8vW8FtE",
        "outputId": "669984a2-8269-4685-ce20-7b7c6fab6a3d"
      },
      "outputs": [
        {
          "data": {
            "image/png": "[encoded data removed]",
            "text/plain": [
              "<Figure size 1000x600 with 2 Axes>"
            ]
          },
          "metadata": {},
          "output_type": "display_data"
        }
      ],
      "source": [
        "#sns.heatmap(corr_enc_df.corr(), cmap=\"YlGnBu\", annot=True)\n",
        "\n",
        "plt.figure(figsize= (10,6))\n",
        "sns.heatmap(corr_enc_df.corr(), annot=True, mask=None, cmap='GnBu', annot_kws={\"fontsize\":8})\n",
        "plt.xticks(rotation=90, fontsize=8)\n",
        "plt.yticks(fontsize=8)\n",
        "plt.show()"
      ]
    },
    {
      "cell_type": "markdown",
      "metadata": {
        "id": "NTkzxR6OPkpi"
      },
      "source": [
        "# **Text Pre-processing for ML Models**"
      ]
    },
    {
      "cell_type": "code",
      "execution_count": null,
      "metadata": {
        "colab": {
          "base_uri": "https://localhost:8080/"
        },
        "id": "9bDjJ84f8KfA",
        "outputId": "3844e1bc-8298-49d0-e873-7c48a05f4e5e"
      },
      "outputs": [
        {
          "data": {
            "text/plain": [
              "0          Moroni to Moheli. Turned out to be a pretty ...\n",
              "1         Moroni to Anjouan. It is a very small airline...\n",
              "2          Anjouan to Dzaoudzi. A very small airline an...\n",
              "3          Please do a favor yourself and do not fly wi...\n",
              "4         Do not book a flight with this airline! My fr...\n",
              "                               ...                        \n",
              "23166     Bangkok to Tokyo. I’ve flown many low cost ai...\n",
              "23167      Avoid at all costs. I booked flights to go f...\n",
              "23168      Flight was leaving at 23.15 and after an hou...\n",
              "23169     Zipair is JAL’s budget airline. They don’t ha...\n",
              "23170      They lied about connection in Narita and we ...\n",
              "Name: Review, Length: 23051, dtype: object"
            ]
          },
          "execution_count": 145,
          "metadata": {},
          "output_type": "execute_result"
        }
      ],
      "source": [
        "enc_df['Review']"
      ]
    },
    {
      "cell_type": "code",
      "execution_count": null,
      "metadata": {
        "colab": {
          "base_uri": "https://localhost:8080/"
        },
        "id": "SH0cY33JPvBf",
        "outputId": "9b03504f-fa28-4019-d562-bcb7d9dc654e"
      },
      "outputs": [
        {
          "data": {
            "text/plain": [
              "0                       \"pretty decent airline\"\n",
              "1                          \"Not a good airline\"\n",
              "2                \"flight was fortunately short\"\n",
              "3           \"I will never fly again with Adria\"\n",
              "4         \"it ruined our last days of holidays\"\n",
              "                          ...                  \n",
              "23166            \"customer service is terrible\"\n",
              "23167                      \"Avoid at all costs\"\n",
              "23168            \"Will not recommend to anyone\"\n",
              "23169               \"It was immaculately clean\"\n",
              "23170    \"lost all of our money with no refund\"\n",
              "Name: Review_Title, Length: 23051, dtype: object"
            ]
          },
          "execution_count": 146,
          "metadata": {},
          "output_type": "execute_result"
        }
      ],
      "source": [
        "enc_df['Review_Title']"
      ]
    },
    {
      "cell_type": "markdown",
      "metadata": {
        "id": "cx3IOAL7P21v"
      },
      "source": [
        "The dataset contains two textual fields namely- Review and Review Title. Both of these fields will be pre-processed so that these can be used in ML models."
      ]
    },
    {
      "cell_type": "code",
      "execution_count": null,
      "metadata": {
        "id": "zWfS4w1wT0lq"
      },
      "outputs": [],
      "source": [
        "stp_wds = stopwords.words([\"english\"])"
      ]
    },
    {
      "cell_type": "code",
      "execution_count": null,
      "metadata": {
        "id": "ENg_TR3WP1Bx"
      },
      "outputs": [],
      "source": [
        "def pre_process(txt):\n",
        "  txt = txt.lower().strip()\n",
        "  clean_txt = \"\".join([i for i in txt if i not in string.punctuation])\n",
        "  return clean_txt\n",
        "\n",
        "enc_df['Review_Title'] = enc_df['Review_Title'].apply(lambda x: pre_process(x))\n",
        "enc_df['Review'] = enc_df['Review'].apply(lambda x: pre_process(x))"
      ]
    },
    {
      "cell_type": "code",
      "execution_count": null,
      "metadata": {
        "id": "d1XajiCHWglx"
      },
      "outputs": [],
      "source": [
        "enc_df['Review_Title'] = enc_df['Review_Title'].apply(lambda x: ' '.join([wrd for wrd in x.split() if wrd not in (stp_wds) and wrd.isalpha()]))\n",
        "enc_df['Review'] = enc_df['Review'].apply(lambda x: ' '.join([wrd for wrd in x.split() if wrd not in (stp_wds) and wrd.isalpha()]))\n"
      ]
    },
    {
      "cell_type": "code",
      "execution_count": null,
      "metadata": {
        "id": "NidlycjWUd2I"
      },
      "outputs": [],
      "source": [
        "enc_df['Review_Title']"
      ]
    },
    {
      "cell_type": "code",
      "execution_count": null,
      "metadata": {
        "colab": {
          "base_uri": "https://localhost:8080/"
        },
        "id": "Hjsloq5nVc8P",
        "outputId": "ff749e26-3ffa-4adc-c5af-05d2c3be1dc0"
      },
      "outputs": [
        {
          "data": {
            "text/plain": [
              "0        moroni moheli turned pretty decent airline onl...\n",
              "1        moroni anjouan small airline ticket advised tu...\n",
              "2        anjouan dzaoudzi small airline airline based c...\n",
              "3        please favor fly adria route munich pristina j...\n",
              "4        book flight airline friend returned sofia amst...\n",
              "                               ...                        \n",
              "23166    bangkok tokyo flown many low cost airlines sti...\n",
              "23167    avoid costs booked flights go singapore tokyo ...\n",
              "23168    flight leaving hour half flying get back airpo...\n",
              "23169    zipair budget airline classes travel pick seat...\n",
              "23170    lied connection narita lost money refund agree...\n",
              "Name: Review, Length: 23051, dtype: object"
            ]
          },
          "execution_count": 151,
          "metadata": {},
          "output_type": "execute_result"
        }
      ],
      "source": [
        "enc_df['Review']"
      ]
    },
    {
      "cell_type": "markdown",
      "metadata": {
        "id": "pGfQLbcjZmIU"
      },
      "source": [
        "# **vectorisation**"
      ]
    },
    {
      "cell_type": "code",
      "execution_count": null,
      "metadata": {
        "id": "rXUne45AVg6G"
      },
      "outputs": [],
      "source": [
        "tf_idf=TfidfVectorizer()\n",
        "review_vec = tf_idf.fit_transform(enc_df[\"Review\"])\n",
        "review_title_vec = tf_idf.fit_transform(enc_df[\"Review_Title\"])"
      ]
    },
    {
      "cell_type": "code",
      "execution_count": null,
      "metadata": {
        "colab": {
          "base_uri": "https://localhost:8080/"
        },
        "id": "3tlyedIiZ0FO",
        "outputId": "624e46ac-b8cb-4a79-da14-49820f38d8ae"
      },
      "outputs": [
        {
          "data": {
            "text/plain": [
              "<23051x35091 sparse matrix of type '<class 'numpy.float64'>'\n",
              "\twith 1230490 stored elements in Compressed Sparse Row format>"
            ]
          },
          "execution_count": 153,
          "metadata": {},
          "output_type": "execute_result"
        }
      ],
      "source": [
        "review_vec"
      ]
    },
    {
      "cell_type": "markdown",
      "metadata": {
        "id": "usG2L2d7aane"
      },
      "source": [
        "# **Separating Inputs and Target Variable (Output)**"
      ]
    },
    {
      "cell_type": "code",
      "execution_count": null,
      "metadata": {
        "id": "J7zdbb2waZg2"
      },
      "outputs": [],
      "source": [
        "X = enc_df.drop(columns=['Recommended'])\n",
        "y = enc_df['Recommended']"
      ]
    },
    {
      "cell_type": "code",
      "execution_count": null,
      "metadata": {
        "colab": {
          "base_uri": "https://localhost:8080/"
        },
        "id": "u0uuDh9haBcx",
        "outputId": "c533342d-9580-45a3-b0c5-1ed596faa3f8"
      },
      "outputs": [
        {
          "name": "stdout",
          "output_type": "stream",
          "text": [
            "Shape of inputs:  (23051, 18)\n",
            "Shape of Output:  (23051,)\n"
          ]
        }
      ],
      "source": [
        "print('Shape of inputs: ', X.shape)\n",
        "print('Shape of Output: ', y.shape)"
      ]
    },
    {
      "cell_type": "code",
      "execution_count": null,
      "metadata": {
        "id": "eEfDZAmaaw_v"
      },
      "outputs": [],
      "source": [
        "#X currently contains textual columns- Review and Review Text which needs to be changed with TF-IDF vectors\n",
        "sparse_num_data = csr_matrix(X.drop(columns=[\"Review\",\"Review_Title\"]).values)\n",
        "\n",
        "# Horizontally Concatenating the sparse matrices and textual vectors\n",
        "final_ftr_mtrx = hstack([sparse_num_data,review_vec, review_title_vec])"
      ]
    },
    {
      "cell_type": "code",
      "execution_count": null,
      "metadata": {
        "colab": {
          "base_uri": "https://localhost:8080/"
        },
        "id": "32WF609ddjAY",
        "outputId": "724a4737-7ab9-48e6-9b81-5a396fee8954"
      },
      "outputs": [
        {
          "data": {
            "text/plain": [
              "scipy.sparse._csr.csr_matrix"
            ]
          },
          "execution_count": 157,
          "metadata": {},
          "output_type": "execute_result"
        }
      ],
      "source": [
        "type(final_ftr_mtrx)"
      ]
    },
    {
      "cell_type": "markdown",
      "metadata": {
        "id": "P776KmVSd4lQ"
      },
      "source": [
        "# **Forming Train and Test Splits**"
      ]
    },
    {
      "cell_type": "code",
      "execution_count": null,
      "metadata": {
        "id": "bmWy77q8d4Me"
      },
      "outputs": [],
      "source": [
        "#Splitting in the ratio of 75-25\n",
        "X_train, X_test, y_train, y_test = train_test_split(final_ftr_mtrx, y, test_size=0.25,stratify=y, random_state=42)"
      ]
    },
    {
      "cell_type": "code",
      "execution_count": null,
      "metadata": {
        "colab": {
          "base_uri": "https://localhost:8080/"
        },
        "id": "345Tm1z4dmy8",
        "outputId": "e0dcf8cb-43d4-44ea-8bba-34cfb74cdcfc"
      },
      "outputs": [
        {
          "name": "stdout",
          "output_type": "stream",
          "text": [
            "Shape of Training Inputs:  (17288, 39902)\n",
            "Shape of Testing Inputs:  (5763, 39902)\n",
            "Shape of Training Output:  (17288,)\n",
            "Shape of Testing Output:  (5763,)\n"
          ]
        }
      ],
      "source": [
        "print('Shape of Training Inputs: ', X_train.shape)\n",
        "print('Shape of Testing Inputs: ', X_test.shape)\n",
        "\n",
        "print('Shape of Training Output: ', y_train.shape)\n",
        "print('Shape of Testing Output: ', y_test.shape)"
      ]
    },
    {
      "cell_type": "markdown",
      "metadata": {
        "id": "dQrCGiRaO67c"
      },
      "source": [
        "# **Predictive Model**"
      ]
    },
    {
      "cell_type": "markdown",
      "metadata": {
        "id": "gfxKRNLEPChj"
      },
      "source": [
        "**Random Forest**"
      ]
    },
    {
      "cell_type": "code",
      "execution_count": null,
      "metadata": {
        "colab": {
          "base_uri": "https://localhost:8080/"
        },
        "id": "RXUOjvLCQlA1",
        "outputId": "4bb5d1ea-0644-43b1-e6e9-fd5b74f1c622"
      },
      "outputs": [
        {
          "name": "stdout",
          "output_type": "stream",
          "text": [
            "Training Accuracy of Random Forest Model : 1.0\n",
            "Testing Accuracy of Random Forest Model : 0.9495054659031754\n"
          ]
        }
      ],
      "source": [
        "#Loading Random Forest Model\n",
        "rf_mdl = RandomForestClassifier()\n",
        "\n",
        "#Training model\n",
        "rf_mdl.fit(X_train, y_train)\n",
        "\n",
        "#Predictions using Model\n",
        "rf_mdl_y_pred = rf_mdl.predict(X_test)\n",
        "\n",
        "print(\"Training Accuracy of Random Forest Model :\", rf_mdl.score(X_train, y_train))\n",
        "print(\"Testing Accuracy of Random Forest Model :\", rf_mdl.score(X_test, y_test))\n"
      ]
    },
    {
      "cell_type": "code",
      "execution_count": null,
      "metadata": {
        "id": "lJWLkneSR9qy"
      },
      "outputs": [],
      "source": [
        "#Generating Confusion Matrix\n",
        "cm_rf = confusion_matrix(y_test, rf_mdl_y_pred)\n",
        "\n",
        "plt.rcParams['figure.figsize'] = (3, 3)\n",
        "sns.heatmap(cm_rf, cmap = 'Greens', annot = True, fmt = '.8g')\n",
        "\n",
        "plt.xlabel('Predicted Values')\n",
        "plt.ylabel('Actual Values')\n",
        "\n",
        "plt.show()"
      ]
    },
    {
      "cell_type": "code",
      "execution_count": null,
      "metadata": {
        "id": "lrKQIgkfSFYt"
      },
      "outputs": [],
      "source": [
        "#Generating Classification Report\n",
        "cr_rf = classification_report(y_test, rf_mdl_y_pred)\n",
        "print(cr_rf)"
      ]
    },
    {
      "cell_type": "markdown",
      "metadata": {
        "id": "rsYZzxjtSS73"
      },
      "source": [
        "**Decision Tree**"
      ]
    },
    {
      "cell_type": "code",
      "execution_count": null,
      "metadata": {
        "id": "_TGyhDG1SRvf"
      },
      "outputs": [],
      "source": [
        "#Loading Decision Tree Model\n",
        "dt_mdl = DecisionTreeClassifier()\n",
        "\n",
        "#Training model\n",
        "dt_mdl.fit(X_train, y_train)\n",
        "\n",
        "#Predictions using Model\n",
        "dt_mdl_y_pred = dt_mdl.predict(X_test)\n",
        "\n",
        "print(\"Training Accuracy of Decision Tree Model :\", dt_mdl.score(X_train, y_train))\n",
        "print(\"Testing Accuracy of Decision Tree Model :\", dt_mdl.score(X_test, y_test))"
      ]
    },
    {
      "cell_type": "code",
      "execution_count": null,
      "metadata": {
        "id": "J2sd8xveS1jm"
      },
      "outputs": [],
      "source": [
        "#Generating Confusion Matrix\n",
        "cm_dt = confusion_matrix(y_test, dt_mdl_y_pred)\n",
        "\n",
        "plt.rcParams['figure.figsize'] = (3, 3)\n",
        "sns.heatmap(cm_dt, cmap = 'Greens', annot = True, fmt = '.8g')\n",
        "\n",
        "plt.xlabel('Predicted Values')\n",
        "plt.ylabel('Actual Values')\n",
        "\n",
        "plt.show()"
      ]
    },
    {
      "cell_type": "code",
      "execution_count": null,
      "metadata": {
        "id": "P_dD__WzS7GZ"
      },
      "outputs": [],
      "source": [
        "#Generating Classification Report\n",
        "cr_dt = classification_report(y_test, dt_mdl_y_pred)\n",
        "print(cr_dt)"
      ]
    },
    {
      "cell_type": "markdown",
      "metadata": {
        "id": "N8LnTYH9U2ZU"
      },
      "source": [
        "**Logistic Regression**"
      ]
    },
    {
      "cell_type": "code",
      "execution_count": null,
      "metadata": {
        "id": "ARJkLfAySY8c"
      },
      "outputs": [],
      "source": [
        "#Loading Logistic Regression Model\n",
        "lr_mdl = LogisticRegression()\n",
        "\n",
        "#Training model\n",
        "lr_mdl.fit(X_train, y_train)\n",
        "\n",
        "#Predictions using Model\n",
        "lr_mdl_y_pred = lr_mdl.predict(X_test)\n",
        "\n",
        "print(\"Training Accuracy of Logistic Regression Model :\", lr_mdl.score(X_train, y_train))\n",
        "print(\"Testing Accuracy of Logistic Regression Model :\", lr_mdl.score(X_test, y_test))"
      ]
    },
    {
      "cell_type": "code",
      "execution_count": null,
      "metadata": {
        "id": "4ninlzGES2q8"
      },
      "outputs": [],
      "source": [
        "#Generating Confusion Matrix\n",
        "cm_lr = confusion_matrix(y_test, lr_mdl_y_pred)\n",
        "\n",
        "plt.rcParams['figure.figsize'] = (3, 3)\n",
        "sns.heatmap(cm_lr, cmap = 'Greens', annot = True, fmt = '.8g')\n",
        "\n",
        "plt.xlabel('Predicted Values')\n",
        "plt.ylabel('Actual Values')\n",
        "\n",
        "plt.show()"
      ]
    },
    {
      "cell_type": "code",
      "execution_count": null,
      "metadata": {
        "id": "gSBGhgbKS8EU"
      },
      "outputs": [],
      "source": [
        "#Generating Classification Report\n",
        "cr_lr = classification_report(y_test, lr_mdl_y_pred)\n",
        "print(cr_lr)"
      ]
    },
    {
      "cell_type": "markdown",
      "metadata": {
        "id": "qjaSe_9US9qs"
      },
      "source": [
        "**XG Boost**"
      ]
    },
    {
      "cell_type": "code",
      "execution_count": null,
      "metadata": {
        "id": "mpm6juzfSZwC"
      },
      "outputs": [],
      "source": [
        "#Loading XG Boost Model\n",
        "xgb_mdl = xgb.XGBClassifier()\n",
        "\n",
        "#Training model\n",
        "xgb_mdl.fit(X_train, y_train)\n",
        "\n",
        "#Predictions using Model\n",
        "xgb_mdl_y_pred = xgb_mdl.predict(X_test)\n",
        "\n",
        "print(\"Training Accuracy of Extreme Gradient Boost Model :\", xgb_mdl.score(X_train, y_train))\n",
        "print(\"Testing Accuracy of Extreme Gradient Boost Model :\", xgb_mdl.score(X_test, y_test))"
      ]
    },
    {
      "cell_type": "code",
      "execution_count": null,
      "metadata": {
        "id": "K1eovQf-S3m0"
      },
      "outputs": [],
      "source": [
        "#Generating Confusion Matrix\n",
        "cm_xgb = confusion_matrix(y_test, xgb_mdl_y_pred)\n",
        "\n",
        "plt.rcParams['figure.figsize'] = (3, 3)\n",
        "sns.heatmap(cm_xgb, cmap = 'Greens', annot = True, fmt = '.8g')\n",
        "\n",
        "plt.xlabel('Predicted Values')\n",
        "plt.ylabel('Actual Values')\n",
        "\n",
        "plt.show()"
      ]
    },
    {
      "cell_type": "code",
      "execution_count": null,
      "metadata": {
        "id": "WitcqaoAS84Z"
      },
      "outputs": [],
      "source": [
        "#Generating Classification Report\n",
        "cr_xgb = classification_report(y_test, xgb_mdl_y_pred)\n",
        "print(cr_xgb)"
      ]
    },
    {
      "cell_type": "markdown",
      "metadata": {
        "id": "raGWNoaBVpLw"
      },
      "source": [
        "**AdaBoost Classifier**"
      ]
    },
    {
      "cell_type": "code",
      "execution_count": null,
      "metadata": {
        "id": "6upcte1NVyPa"
      },
      "outputs": [],
      "source": [
        "#Loading AdaBoost Model\n",
        "ab_mdl = AdaBoostClassifier()\n",
        "\n",
        "#Training model\n",
        "ab_mdl.fit(X_train, y_train)\n",
        "\n",
        "#Predictions using Model\n",
        "ab_mdl_y_pred = ab_mdl.predict(X_test)\n",
        "\n",
        "print(\"Training Accuracy of AdaBoost Classifier Model :\", ab_mdl.score(X_train, y_train))\n",
        "print(\"Testing Accuracy of AdaBoost Classifier Model :\", ab_mdl.score(X_test, y_test))"
      ]
    },
    {
      "cell_type": "code",
      "execution_count": null,
      "metadata": {
        "id": "mpFnF11nVz2F"
      },
      "outputs": [],
      "source": [
        "#Generating Confusion Matrix\n",
        "cm_ab = confusion_matrix(y_test, ab_mdl_y_pred)\n",
        "\n",
        "plt.rcParams['figure.figsize'] = (3, 3)\n",
        "sns.heatmap(cm_ab, cmap = 'Greens', annot = True, fmt = '.8g')\n",
        "\n",
        "plt.xlabel('Predicted Values')\n",
        "plt.ylabel('Actual Values')\n",
        "\n",
        "plt.show()"
      ]
    },
    {
      "cell_type": "code",
      "execution_count": null,
      "metadata": {
        "id": "xpkc66DvV0oQ"
      },
      "outputs": [],
      "source": [
        "#Generating Classification Report\n",
        "cr_ab = classification_report(y_test, ab_mdl_y_pred)\n",
        "print(cr_ab)"
      ]
    },
    {
      "cell_type": "markdown",
      "metadata": {
        "id": "EXRsY-exXBQC"
      },
      "source": [
        "**Comparsion of Results**"
      ]
    },
    {
      "cell_type": "code",
      "execution_count": null,
      "metadata": {
        "id": "o6N7BB16W57N"
      },
      "outputs": [],
      "source": [
        "mdl_acc = {\"Logistic Regression\": lr_mdl.score(X_test, y_test),\n",
        "           \"Decision Tree\":dt_mdl.score(X_test, y_test),\n",
        "           \"Random Forest\":rf_mdl.score(X_test, y_test),\n",
        "           \"XG Boost\":xgb_mdl.score(X_test, y_test),\n",
        "           \"AdaBoost\":ab_mdl.score(X_test, y_test)}\n",
        "\n",
        "print(\"Maximum Score obtained by Model: \", max(mdl_acc, key=mdl_acc.get))"
      ]
    },
    {
      "cell_type": "code",
      "execution_count": null,
      "metadata": {
        "colab": {
          "background_save": true
        },
        "id": "VR0kKZ3sXuMo",
        "outputId": "d39dc3c0-d459-43be-ec27-14579d7deef7"
      },
      "outputs": [
        {
          "data": {
            "image/png": "[encoded data removed]",
            "text/plain": [
              "<Figure size 800x400 with 1 Axes>"
            ]
          },
          "metadata": {},
          "output_type": "display_data"
        }
      ],
      "source": [
        "clr_plt = sns.color_palette(\"colorblind\")\n",
        "\n",
        "plt.figure(figsize=(8,4))\n",
        "plt.bar(*zip(*mdl_acc.items()), color=clr_plt, width = 0.6)\n",
        "plt.title(\"Performance Comparison\")\n",
        "#plt.grid(axis = 'y', linewidth = 0.4)\n",
        "plt.show()"
      ]
    },
    {
      "cell_type": "markdown",
      "metadata": {
        "id": "PRdejzR9ZMgg"
      },
      "source": [
        "# **BERT Model**"
      ]
    },
    {
      "cell_type": "code",
      "execution_count": null,
      "metadata": {
        "colab": {
          "background_save": true
        },
        "id": "Do0jeHeXZQeR",
        "outputId": "775e21b1-505a-49c7-bcb2-bcd36f77cbc5"
      },
      "outputs": [
        {
          "data": {
            "text/html": [
              "\n",
              "  <div id=\"df-48d9e804-e5fa-4038-adbf-0fd5ad6e2210\" class=\"colab-df-container\">\n",
              "    <div>\n",
              "<style scoped>\n",
              "    .dataframe tbody tr th:only-of-type {\n",
              "        vertical-align: middle;\n",
              "    }\n",
              "\n",
              "    .dataframe tbody tr th {\n",
              "        vertical-align: top;\n",
              "    }\n",
              "\n",
              "    .dataframe thead th {\n",
              "        text-align: right;\n",
              "    }\n",
              "</style>\n",
              "<table border=\"1\" class=\"dataframe\">\n",
              "  <thead>\n",
              "    <tr style=\"text-align: right;\">\n",
              "      <th></th>\n",
              "      <th>Overall_Rating</th>\n",
              "      <th>Review_Title</th>\n",
              "      <th>Review</th>\n",
              "      <th>Type Of Traveller</th>\n",
              "      <th>Seat Type</th>\n",
              "      <th>Seat Comfort</th>\n",
              "      <th>Cabin Staff Service</th>\n",
              "      <th>Food &amp; Beverages</th>\n",
              "      <th>Ground Service</th>\n",
              "      <th>Inflight Entertainment</th>\n",
              "      <th>Wifi &amp; Connectivity</th>\n",
              "      <th>Value For Money</th>\n",
              "      <th>Recommended</th>\n",
              "    </tr>\n",
              "  </thead>\n",
              "  <tbody>\n",
              "    <tr>\n",
              "      <th>0</th>\n",
              "      <td>9</td>\n",
              "      <td>\"pretty decent airline\"</td>\n",
              "      <td>Moroni to Moheli. Turned out to be a pretty ...</td>\n",
              "      <td>Solo Leisure</td>\n",
              "      <td>Economy Class</td>\n",
              "      <td>4.0</td>\n",
              "      <td>5.0</td>\n",
              "      <td>4.0</td>\n",
              "      <td>4.0</td>\n",
              "      <td>2.0</td>\n",
              "      <td>2.0</td>\n",
              "      <td>3.0</td>\n",
              "      <td>1</td>\n",
              "    </tr>\n",
              "    <tr>\n",
              "      <th>1</th>\n",
              "      <td>1</td>\n",
              "      <td>\"Not a good airline\"</td>\n",
              "      <td>Moroni to Anjouan. It is a very small airline...</td>\n",
              "      <td>Solo Leisure</td>\n",
              "      <td>Economy Class</td>\n",
              "      <td>2.0</td>\n",
              "      <td>2.0</td>\n",
              "      <td>1.0</td>\n",
              "      <td>1.0</td>\n",
              "      <td>2.0</td>\n",
              "      <td>2.0</td>\n",
              "      <td>2.0</td>\n",
              "      <td>0</td>\n",
              "    </tr>\n",
              "    <tr>\n",
              "      <th>2</th>\n",
              "      <td>1</td>\n",
              "      <td>\"flight was fortunately short\"</td>\n",
              "      <td>Anjouan to Dzaoudzi. A very small airline an...</td>\n",
              "      <td>Solo Leisure</td>\n",
              "      <td>Economy Class</td>\n",
              "      <td>2.0</td>\n",
              "      <td>1.0</td>\n",
              "      <td>1.0</td>\n",
              "      <td>1.0</td>\n",
              "      <td>2.0</td>\n",
              "      <td>2.0</td>\n",
              "      <td>2.0</td>\n",
              "      <td>0</td>\n",
              "    </tr>\n",
              "    <tr>\n",
              "      <th>3</th>\n",
              "      <td>1</td>\n",
              "      <td>\"I will never fly again with Adria\"</td>\n",
              "      <td>Please do a favor yourself and do not fly wi...</td>\n",
              "      <td>Solo Leisure</td>\n",
              "      <td>Economy Class</td>\n",
              "      <td>1.0</td>\n",
              "      <td>1.0</td>\n",
              "      <td>3.0</td>\n",
              "      <td>1.0</td>\n",
              "      <td>2.0</td>\n",
              "      <td>2.0</td>\n",
              "      <td>1.0</td>\n",
              "      <td>0</td>\n",
              "    </tr>\n",
              "    <tr>\n",
              "      <th>4</th>\n",
              "      <td>1</td>\n",
              "      <td>\"it ruined our last days of holidays\"</td>\n",
              "      <td>Do not book a flight with this airline! My fr...</td>\n",
              "      <td>Couple Leisure</td>\n",
              "      <td>Economy Class</td>\n",
              "      <td>1.0</td>\n",
              "      <td>1.0</td>\n",
              "      <td>1.0</td>\n",
              "      <td>1.0</td>\n",
              "      <td>1.0</td>\n",
              "      <td>1.0</td>\n",
              "      <td>1.0</td>\n",
              "      <td>0</td>\n",
              "    </tr>\n",
              "  </tbody>\n",
              "</table>\n",
              "</div>\n",
              "    <div class=\"colab-df-buttons\">\n",
              "\n",
              "  <div class=\"colab-df-container\">\n",
              "    <button class=\"colab-df-convert\" onclick=\"convertToInteractive('df-48d9e804-e5fa-4038-adbf-0fd5ad6e2210')\"\n",
              "            title=\"Convert this dataframe to an interactive table.\"\n",
              "            style=\"display:none;\">\n",
              "\n",
              "  <svg xmlns=\"http://www.w3.org/2000/svg\" height=\"24px\" viewBox=\"0 -960 960 960\">\n",
              "    <path d=\"M120-120v-720h720v720H120Zm60-500h600v-160H180v160Zm220 220h160v-160H400v160Zm0 220h160v-160H400v160ZM180-400h160v-160H180v160Zm440 0h160v-160H620v160ZM180-180h160v-160H180v160Zm440 0h160v-160H620v160Z\"/>\n",
              "  </svg>\n",
              "    </button>\n",
              "\n",
              "  <style>\n",
              "    .colab-df-container {\n",
              "      display:flex;\n",
              "      gap: 12px;\n",
              "    }\n",
              "\n",
              "    .colab-df-convert {\n",
              "      background-color: #E8F0FE;\n",
              "      border: none;\n",
              "      border-radius: 50%;\n",
              "      cursor: pointer;\n",
              "      display: none;\n",
              "      fill: #1967D2;\n",
              "      height: 32px;\n",
              "      padding: 0 0 0 0;\n",
              "      width: 32px;\n",
              "    }\n",
              "\n",
              "    .colab-df-convert:hover {\n",
              "      background-color: #E2EBFA;\n",
              "      box-shadow: 0px 1px 2px rgba(60, 64, 67, 0.3), 0px 1px 3px 1px rgba(60, 64, 67, 0.15);\n",
              "      fill: #174EA6;\n",
              "    }\n",
              "\n",
              "    .colab-df-buttons div {\n",
              "      margin-bottom: 4px;\n",
              "    }\n",
              "\n",
              "    [theme=dark] .colab-df-convert {\n",
              "      background-color: #3B4455;\n",
              "      fill: #D2E3FC;\n",
              "    }\n",
              "\n",
              "    [theme=dark] .colab-df-convert:hover {\n",
              "      background-color: #434B5C;\n",
              "      box-shadow: 0px 1px 3px 1px rgba(0, 0, 0, 0.15);\n",
              "      filter: drop-shadow(0px 1px 2px rgba(0, 0, 0, 0.3));\n",
              "      fill: #FFFFFF;\n",
              "    }\n",
              "  </style>\n",
              "\n",
              "    <script>\n",
              "      const buttonEl =\n",
              "        document.querySelector('#df-48d9e804-e5fa-4038-adbf-0fd5ad6e2210 button.colab-df-convert');\n",
              "      buttonEl.style.display =\n",
              "        google.colab.kernel.accessAllowed ? 'block' : 'none';\n",
              "\n",
              "      async function convertToInteractive(key) {\n",
              "        const element = document.querySelector('#df-48d9e804-e5fa-4038-adbf-0fd5ad6e2210');\n",
              "        const dataTable =\n",
              "          await google.colab.kernel.invokeFunction('convertToInteractive',\n",
              "                                                    [key], {});\n",
              "        if (!dataTable) return;\n",
              "\n",
              "        const docLinkHtml = 'Like what you see? Visit the ' +\n",
              "          '<a target=\"_blank\" href=https://colab.research.google.com/notebooks/data_table.ipynb>data table notebook</a>'\n",
              "          + ' to learn more about interactive tables.';\n",
              "        element.innerHTML = '';\n",
              "        dataTable['output_type'] = 'display_data';\n",
              "        await google.colab.output.renderOutput(dataTable, element);\n",
              "        const docLink = document.createElement('div');\n",
              "        docLink.innerHTML = docLinkHtml;\n",
              "        element.appendChild(docLink);\n",
              "      }\n",
              "    </script>\n",
              "  </div>\n",
              "\n",
              "\n",
              "<div id=\"df-5f40475e-4edd-4a43-b1d4-dd64770c002a\">\n",
              "  <button class=\"colab-df-quickchart\" onclick=\"quickchart('df-5f40475e-4edd-4a43-b1d4-dd64770c002a')\"\n",
              "            title=\"Suggest charts\"\n",
              "            style=\"display:none;\">\n",
              "\n",
              "<svg xmlns=\"http://www.w3.org/2000/svg\" height=\"24px\"viewBox=\"0 0 24 24\"\n",
              "     width=\"24px\">\n",
              "    <g>\n",
              "        <path d=\"M19 3H5c-1.1 0-2 .9-2 2v14c0 1.1.9 2 2 2h14c1.1 0 2-.9 2-2V5c0-1.1-.9-2-2-2zM9 17H7v-7h2v7zm4 0h-2V7h2v10zm4 0h-2v-4h2v4z\"/>\n",
              "    </g>\n",
              "</svg>\n",
              "  </button>\n",
              "\n",
              "<style>\n",
              "  .colab-df-quickchart {\n",
              "      --bg-color: #E8F0FE;\n",
              "      --fill-color: #1967D2;\n",
              "      --hover-bg-color: #E2EBFA;\n",
              "      --hover-fill-color: #174EA6;\n",
              "      --disabled-fill-color: #AAA;\n",
              "      --disabled-bg-color: #DDD;\n",
              "  }\n",
              "\n",
              "  [theme=dark] .colab-df-quickchart {\n",
              "      --bg-color: #3B4455;\n",
              "      --fill-color: #D2E3FC;\n",
              "      --hover-bg-color: #434B5C;\n",
              "      --hover-fill-color: #FFFFFF;\n",
              "      --disabled-bg-color: #3B4455;\n",
              "      --disabled-fill-color: #666;\n",
              "  }\n",
              "\n",
              "  .colab-df-quickchart {\n",
              "    background-color: var(--bg-color);\n",
              "    border: none;\n",
              "    border-radius: 50%;\n",
              "    cursor: pointer;\n",
              "    display: none;\n",
              "    fill: var(--fill-color);\n",
              "    height: 32px;\n",
              "    padding: 0;\n",
              "    width: 32px;\n",
              "  }\n",
              "\n",
              "  .colab-df-quickchart:hover {\n",
              "    background-color: var(--hover-bg-color);\n",
              "    box-shadow: 0 1px 2px rgba(60, 64, 67, 0.3), 0 1px 3px 1px rgba(60, 64, 67, 0.15);\n",
              "    fill: var(--button-hover-fill-color);\n",
              "  }\n",
              "\n",
              "  .colab-df-quickchart-complete:disabled,\n",
              "  .colab-df-quickchart-complete:disabled:hover {\n",
              "    background-color: var(--disabled-bg-color);\n",
              "    fill: var(--disabled-fill-color);\n",
              "    box-shadow: none;\n",
              "  }\n",
              "\n",
              "  .colab-df-spinner {\n",
              "    border: 2px solid var(--fill-color);\n",
              "    border-color: transparent;\n",
              "    border-bottom-color: var(--fill-color);\n",
              "    animation:\n",
              "      spin 1s steps(1) infinite;\n",
              "  }\n",
              "\n",
              "  @keyframes spin {\n",
              "    0% {\n",
              "      border-color: transparent;\n",
              "      border-bottom-color: var(--fill-color);\n",
              "      border-left-color: var(--fill-color);\n",
              "    }\n",
              "    20% {\n",
              "      border-color: transparent;\n",
              "      border-left-color: var(--fill-color);\n",
              "      border-top-color: var(--fill-color);\n",
              "    }\n",
              "    30% {\n",
              "      border-color: transparent;\n",
              "      border-left-color: var(--fill-color);\n",
              "      border-top-color: var(--fill-color);\n",
              "      border-right-color: var(--fill-color);\n",
              "    }\n",
              "    40% {\n",
              "      border-color: transparent;\n",
              "      border-right-color: var(--fill-color);\n",
              "      border-top-color: var(--fill-color);\n",
              "    }\n",
              "    60% {\n",
              "      border-color: transparent;\n",
              "      border-right-color: var(--fill-color);\n",
              "    }\n",
              "    80% {\n",
              "      border-color: transparent;\n",
              "      border-right-color: var(--fill-color);\n",
              "      border-bottom-color: var(--fill-color);\n",
              "    }\n",
              "    90% {\n",
              "      border-color: transparent;\n",
              "      border-bottom-color: var(--fill-color);\n",
              "    }\n",
              "  }\n",
              "</style>\n",
              "\n",
              "  <script>\n",
              "    async function quickchart(key) {\n",
              "      const quickchartButtonEl =\n",
              "        document.querySelector('#' + key + ' button');\n",
              "      quickchartButtonEl.disabled = true;  // To prevent multiple clicks.\n",
              "      quickchartButtonEl.classList.add('colab-df-spinner');\n",
              "      try {\n",
              "        const charts = await google.colab.kernel.invokeFunction(\n",
              "            'suggestCharts', [key], {});\n",
              "      } catch (error) {\n",
              "        console.error('Error during call to suggestCharts:', error);\n",
              "      }\n",
              "      quickchartButtonEl.classList.remove('colab-df-spinner');\n",
              "      quickchartButtonEl.classList.add('colab-df-quickchart-complete');\n",
              "    }\n",
              "    (() => {\n",
              "      let quickchartButtonEl =\n",
              "        document.querySelector('#df-5f40475e-4edd-4a43-b1d4-dd64770c002a button');\n",
              "      quickchartButtonEl.style.display =\n",
              "        google.colab.kernel.accessAllowed ? 'block' : 'none';\n",
              "    })();\n",
              "  </script>\n",
              "</div>\n",
              "    </div>\n",
              "  </div>\n"
            ],
            "text/plain": [
              "   Overall_Rating                           Review_Title  \\\n",
              "0               9                \"pretty decent airline\"   \n",
              "1               1                   \"Not a good airline\"   \n",
              "2               1         \"flight was fortunately short\"   \n",
              "3               1    \"I will never fly again with Adria\"   \n",
              "4               1  \"it ruined our last days of holidays\"   \n",
              "\n",
              "                                              Review Type Of Traveller  \\\n",
              "0    Moroni to Moheli. Turned out to be a pretty ...      Solo Leisure   \n",
              "1   Moroni to Anjouan. It is a very small airline...      Solo Leisure   \n",
              "2    Anjouan to Dzaoudzi. A very small airline an...      Solo Leisure   \n",
              "3    Please do a favor yourself and do not fly wi...      Solo Leisure   \n",
              "4   Do not book a flight with this airline! My fr...    Couple Leisure   \n",
              "\n",
              "       Seat Type  Seat Comfort  Cabin Staff Service  Food & Beverages  \\\n",
              "0  Economy Class           4.0                  5.0               4.0   \n",
              "1  Economy Class           2.0                  2.0               1.0   \n",
              "2  Economy Class           2.0                  1.0               1.0   \n",
              "3  Economy Class           1.0                  1.0               3.0   \n",
              "4  Economy Class           1.0                  1.0               1.0   \n",
              "\n",
              "   Ground Service  Inflight Entertainment  Wifi & Connectivity  \\\n",
              "0             4.0                     2.0                  2.0   \n",
              "1             1.0                     2.0                  2.0   \n",
              "2             1.0                     2.0                  2.0   \n",
              "3             1.0                     2.0                  2.0   \n",
              "4             1.0                     1.0                  1.0   \n",
              "\n",
              "   Value For Money  Recommended  \n",
              "0              3.0            1  \n",
              "1              2.0            0  \n",
              "2              2.0            0  \n",
              "3              1.0            0  \n",
              "4              1.0            0  "
            ]
          },
          "execution_count": 177,
          "metadata": {},
          "output_type": "execute_result"
        }
      ],
      "source": [
        "df.head()"
      ]
    },
    {
      "cell_type": "code",
      "execution_count": null,
      "metadata": {
        "colab": {
          "background_save": true
        },
        "id": "a2U1HMIwZnTE",
        "outputId": "7f42d2dc-13f1-4b08-fb6d-31ab227bfa25"
      },
      "outputs": [
        {
          "data": {
            "text/plain": [
              "(23051, 13)"
            ]
          },
          "execution_count": 178,
          "metadata": {},
          "output_type": "execute_result"
        }
      ],
      "source": [
        "df.shape"
      ]
    },
    {
      "cell_type": "code",
      "execution_count": null,
      "metadata": {
        "colab": {
          "background_save": true,
          "base_uri": "https://localhost:8080/",
          "height": 206
        },
        "id": "dSVTrxXzZpd2",
        "outputId": "96496e00-458b-454d-d768-99864b055565"
      },
      "outputs": [
        {
          "data": {
            "text/html": [
              "\n",
              "  <div id=\"df-a6a8ed93-729a-417d-978b-0fa9a7190bed\" class=\"colab-df-container\">\n",
              "    <div>\n",
              "<style scoped>\n",
              "    .dataframe tbody tr th:only-of-type {\n",
              "        vertical-align: middle;\n",
              "    }\n",
              "\n",
              "    .dataframe tbody tr th {\n",
              "        vertical-align: top;\n",
              "    }\n",
              "\n",
              "    .dataframe thead th {\n",
              "        text-align: right;\n",
              "    }\n",
              "</style>\n",
              "<table border=\"1\" class=\"dataframe\">\n",
              "  <thead>\n",
              "    <tr style=\"text-align: right;\">\n",
              "      <th></th>\n",
              "      <th>Review</th>\n",
              "      <th>Recommended</th>\n",
              "    </tr>\n",
              "  </thead>\n",
              "  <tbody>\n",
              "    <tr>\n",
              "      <th>0</th>\n",
              "      <td>Moroni to Moheli. Turned out to be a pretty ...</td>\n",
              "      <td>1</td>\n",
              "    </tr>\n",
              "    <tr>\n",
              "      <th>1</th>\n",
              "      <td>Moroni to Anjouan. It is a very small airline...</td>\n",
              "      <td>0</td>\n",
              "    </tr>\n",
              "    <tr>\n",
              "      <th>2</th>\n",
              "      <td>Anjouan to Dzaoudzi. A very small airline an...</td>\n",
              "      <td>0</td>\n",
              "    </tr>\n",
              "    <tr>\n",
              "      <th>3</th>\n",
              "      <td>Please do a favor yourself and do not fly wi...</td>\n",
              "      <td>0</td>\n",
              "    </tr>\n",
              "    <tr>\n",
              "      <th>4</th>\n",
              "      <td>Do not book a flight with this airline! My fr...</td>\n",
              "      <td>0</td>\n",
              "    </tr>\n",
              "  </tbody>\n",
              "</table>\n",
              "</div>\n",
              "    <div class=\"colab-df-buttons\">\n",
              "\n",
              "  <div class=\"colab-df-container\">\n",
              "    <button class=\"colab-df-convert\" onclick=\"convertToInteractive('df-a6a8ed93-729a-417d-978b-0fa9a7190bed')\"\n",
              "            title=\"Convert this dataframe to an interactive table.\"\n",
              "            style=\"display:none;\">\n",
              "\n",
              "  <svg xmlns=\"http://www.w3.org/2000/svg\" height=\"24px\" viewBox=\"0 -960 960 960\">\n",
              "    <path d=\"M120-120v-720h720v720H120Zm60-500h600v-160H180v160Zm220 220h160v-160H400v160Zm0 220h160v-160H400v160ZM180-400h160v-160H180v160Zm440 0h160v-160H620v160ZM180-180h160v-160H180v160Zm440 0h160v-160H620v160Z\"/>\n",
              "  </svg>\n",
              "    </button>\n",
              "\n",
              "  <style>\n",
              "    .colab-df-container {\n",
              "      display:flex;\n",
              "      gap: 12px;\n",
              "    }\n",
              "\n",
              "    .colab-df-convert {\n",
              "      background-color: #E8F0FE;\n",
              "      border: none;\n",
              "      border-radius: 50%;\n",
              "      cursor: pointer;\n",
              "      display: none;\n",
              "      fill: #1967D2;\n",
              "      height: 32px;\n",
              "      padding: 0 0 0 0;\n",
              "      width: 32px;\n",
              "    }\n",
              "\n",
              "    .colab-df-convert:hover {\n",
              "      background-color: #E2EBFA;\n",
              "      box-shadow: 0px 1px 2px rgba(60, 64, 67, 0.3), 0px 1px 3px 1px rgba(60, 64, 67, 0.15);\n",
              "      fill: #174EA6;\n",
              "    }\n",
              "\n",
              "    .colab-df-buttons div {\n",
              "      margin-bottom: 4px;\n",
              "    }\n",
              "\n",
              "    [theme=dark] .colab-df-convert {\n",
              "      background-color: #3B4455;\n",
              "      fill: #D2E3FC;\n",
              "    }\n",
              "\n",
              "    [theme=dark] .colab-df-convert:hover {\n",
              "      background-color: #434B5C;\n",
              "      box-shadow: 0px 1px 3px 1px rgba(0, 0, 0, 0.15);\n",
              "      filter: drop-shadow(0px 1px 2px rgba(0, 0, 0, 0.3));\n",
              "      fill: #FFFFFF;\n",
              "    }\n",
              "  </style>\n",
              "\n",
              "    <script>\n",
              "      const buttonEl =\n",
              "        document.querySelector('#df-a6a8ed93-729a-417d-978b-0fa9a7190bed button.colab-df-convert');\n",
              "      buttonEl.style.display =\n",
              "        google.colab.kernel.accessAllowed ? 'block' : 'none';\n",
              "\n",
              "      async function convertToInteractive(key) {\n",
              "        const element = document.querySelector('#df-a6a8ed93-729a-417d-978b-0fa9a7190bed');\n",
              "        const dataTable =\n",
              "          await google.colab.kernel.invokeFunction('convertToInteractive',\n",
              "                                                    [key], {});\n",
              "        if (!dataTable) return;\n",
              "\n",
              "        const docLinkHtml = 'Like what you see? Visit the ' +\n",
              "          '<a target=\"_blank\" href=https://colab.research.google.com/notebooks/data_table.ipynb>data table notebook</a>'\n",
              "          + ' to learn more about interactive tables.';\n",
              "        element.innerHTML = '';\n",
              "        dataTable['output_type'] = 'display_data';\n",
              "        await google.colab.output.renderOutput(dataTable, element);\n",
              "        const docLink = document.createElement('div');\n",
              "        docLink.innerHTML = docLinkHtml;\n",
              "        element.appendChild(docLink);\n",
              "      }\n",
              "    </script>\n",
              "  </div>\n",
              "\n",
              "\n",
              "<div id=\"df-a23b41c9-006b-4f8b-b920-f91555944608\">\n",
              "  <button class=\"colab-df-quickchart\" onclick=\"quickchart('df-a23b41c9-006b-4f8b-b920-f91555944608')\"\n",
              "            title=\"Suggest charts\"\n",
              "            style=\"display:none;\">\n",
              "\n",
              "<svg xmlns=\"http://www.w3.org/2000/svg\" height=\"24px\"viewBox=\"0 0 24 24\"\n",
              "     width=\"24px\">\n",
              "    <g>\n",
              "        <path d=\"M19 3H5c-1.1 0-2 .9-2 2v14c0 1.1.9 2 2 2h14c1.1 0 2-.9 2-2V5c0-1.1-.9-2-2-2zM9 17H7v-7h2v7zm4 0h-2V7h2v10zm4 0h-2v-4h2v4z\"/>\n",
              "    </g>\n",
              "</svg>\n",
              "  </button>\n",
              "\n",
              "<style>\n",
              "  .colab-df-quickchart {\n",
              "      --bg-color: #E8F0FE;\n",
              "      --fill-color: #1967D2;\n",
              "      --hover-bg-color: #E2EBFA;\n",
              "      --hover-fill-color: #174EA6;\n",
              "      --disabled-fill-color: #AAA;\n",
              "      --disabled-bg-color: #DDD;\n",
              "  }\n",
              "\n",
              "  [theme=dark] .colab-df-quickchart {\n",
              "      --bg-color: #3B4455;\n",
              "      --fill-color: #D2E3FC;\n",
              "      --hover-bg-color: #434B5C;\n",
              "      --hover-fill-color: #FFFFFF;\n",
              "      --disabled-bg-color: #3B4455;\n",
              "      --disabled-fill-color: #666;\n",
              "  }\n",
              "\n",
              "  .colab-df-quickchart {\n",
              "    background-color: var(--bg-color);\n",
              "    border: none;\n",
              "    border-radius: 50%;\n",
              "    cursor: pointer;\n",
              "    display: none;\n",
              "    fill: var(--fill-color);\n",
              "    height: 32px;\n",
              "    padding: 0;\n",
              "    width: 32px;\n",
              "  }\n",
              "\n",
              "  .colab-df-quickchart:hover {\n",
              "    background-color: var(--hover-bg-color);\n",
              "    box-shadow: 0 1px 2px rgba(60, 64, 67, 0.3), 0 1px 3px 1px rgba(60, 64, 67, 0.15);\n",
              "    fill: var(--button-hover-fill-color);\n",
              "  }\n",
              "\n",
              "  .colab-df-quickchart-complete:disabled,\n",
              "  .colab-df-quickchart-complete:disabled:hover {\n",
              "    background-color: var(--disabled-bg-color);\n",
              "    fill: var(--disabled-fill-color);\n",
              "    box-shadow: none;\n",
              "  }\n",
              "\n",
              "  .colab-df-spinner {\n",
              "    border: 2px solid var(--fill-color);\n",
              "    border-color: transparent;\n",
              "    border-bottom-color: var(--fill-color);\n",
              "    animation:\n",
              "      spin 1s steps(1) infinite;\n",
              "  }\n",
              "\n",
              "  @keyframes spin {\n",
              "    0% {\n",
              "      border-color: transparent;\n",
              "      border-bottom-color: var(--fill-color);\n",
              "      border-left-color: var(--fill-color);\n",
              "    }\n",
              "    20% {\n",
              "      border-color: transparent;\n",
              "      border-left-color: var(--fill-color);\n",
              "      border-top-color: var(--fill-color);\n",
              "    }\n",
              "    30% {\n",
              "      border-color: transparent;\n",
              "      border-left-color: var(--fill-color);\n",
              "      border-top-color: var(--fill-color);\n",
              "      border-right-color: var(--fill-color);\n",
              "    }\n",
              "    40% {\n",
              "      border-color: transparent;\n",
              "      border-right-color: var(--fill-color);\n",
              "      border-top-color: var(--fill-color);\n",
              "    }\n",
              "    60% {\n",
              "      border-color: transparent;\n",
              "      border-right-color: var(--fill-color);\n",
              "    }\n",
              "    80% {\n",
              "      border-color: transparent;\n",
              "      border-right-color: var(--fill-color);\n",
              "      border-bottom-color: var(--fill-color);\n",
              "    }\n",
              "    90% {\n",
              "      border-color: transparent;\n",
              "      border-bottom-color: var(--fill-color);\n",
              "    }\n",
              "  }\n",
              "</style>\n",
              "\n",
              "  <script>\n",
              "    async function quickchart(key) {\n",
              "      const quickchartButtonEl =\n",
              "        document.querySelector('#' + key + ' button');\n",
              "      quickchartButtonEl.disabled = true;  // To prevent multiple clicks.\n",
              "      quickchartButtonEl.classList.add('colab-df-spinner');\n",
              "      try {\n",
              "        const charts = await google.colab.kernel.invokeFunction(\n",
              "            'suggestCharts', [key], {});\n",
              "      } catch (error) {\n",
              "        console.error('Error during call to suggestCharts:', error);\n",
              "      }\n",
              "      quickchartButtonEl.classList.remove('colab-df-spinner');\n",
              "      quickchartButtonEl.classList.add('colab-df-quickchart-complete');\n",
              "    }\n",
              "    (() => {\n",
              "      let quickchartButtonEl =\n",
              "        document.querySelector('#df-a23b41c9-006b-4f8b-b920-f91555944608 button');\n",
              "      quickchartButtonEl.style.display =\n",
              "        google.colab.kernel.accessAllowed ? 'block' : 'none';\n",
              "    })();\n",
              "  </script>\n",
              "</div>\n",
              "    </div>\n",
              "  </div>\n"
            ],
            "text/plain": [
              "                                              Review  Recommended\n",
              "0    Moroni to Moheli. Turned out to be a pretty ...            1\n",
              "1   Moroni to Anjouan. It is a very small airline...            0\n",
              "2    Anjouan to Dzaoudzi. A very small airline an...            0\n",
              "3    Please do a favor yourself and do not fly wi...            0\n",
              "4   Do not book a flight with this airline! My fr...            0"
            ]
          },
          "execution_count": 179,
          "metadata": {},
          "output_type": "execute_result"
        }
      ],
      "source": [
        "bert_df= pd.DataFrame()\n",
        "#bert_df['Review_Title'] = df['Review_Title']\n",
        "bert_df['Review'] = df['Review']\n",
        "bert_df['Recommended'] = df['Recommended']\n",
        "bert_df.head()"
      ]
    },
    {
      "cell_type": "code",
      "execution_count": null,
      "metadata": {
        "colab": {
          "background_save": true
        },
        "id": "_pD3smQ4Zymq",
        "outputId": "05301506-7e73-42ea-b22d-934b591c3e17"
      },
      "outputs": [
        {
          "name": "stderr",
          "output_type": "stream",
          "text": [
            "<ipython-input-180-c6891b13b2c1>:2: FutureWarning: The default value of regex will change from True to False in a future version.\n",
            "  bert_df['Review'] = bert_df['Review'].str.replace('<[^<]+?>', '')\n",
            "<ipython-input-180-c6891b13b2c1>:3: FutureWarning: The default value of regex will change from True to False in a future version.\n",
            "  bert_df['Review'] = bert_df['Review'].str.replace('[^\\w\\s]','')\n"
          ]
        }
      ],
      "source": [
        "# Basic Data Cleaning- Remove HTML tags, punctuation\n",
        "bert_df['Review'] = bert_df['Review'].str.replace('<[^<]+?>', '')\n",
        "bert_df['Review'] = bert_df['Review'].str.replace('[^\\w\\s]','')"
      ]
    },
    {
      "cell_type": "code",
      "execution_count": null,
      "metadata": {
        "colab": {
          "background_save": true
        },
        "id": "HepX-p-oa2AY",
        "outputId": "0a490ecf-c658-4a90-c50f-ae8833e5d37e"
      },
      "outputs": [
        {
          "data": {
            "text/html": [
              "\n",
              "  <div id=\"df-9b8ad571-343b-4253-b165-390370546313\" class=\"colab-df-container\">\n",
              "    <div>\n",
              "<style scoped>\n",
              "    .dataframe tbody tr th:only-of-type {\n",
              "        vertical-align: middle;\n",
              "    }\n",
              "\n",
              "    .dataframe tbody tr th {\n",
              "        vertical-align: top;\n",
              "    }\n",
              "\n",
              "    .dataframe thead th {\n",
              "        text-align: right;\n",
              "    }\n",
              "</style>\n",
              "<table border=\"1\" class=\"dataframe\">\n",
              "  <thead>\n",
              "    <tr style=\"text-align: right;\">\n",
              "      <th></th>\n",
              "      <th>Review</th>\n",
              "      <th>Recommended</th>\n",
              "    </tr>\n",
              "  </thead>\n",
              "  <tbody>\n",
              "    <tr>\n",
              "      <th>0</th>\n",
              "      <td>Moroni to Moheli Turned out to be a pretty d...</td>\n",
              "      <td>1</td>\n",
              "    </tr>\n",
              "    <tr>\n",
              "      <th>1</th>\n",
              "      <td>Moroni to Anjouan It is a very small airline ...</td>\n",
              "      <td>0</td>\n",
              "    </tr>\n",
              "    <tr>\n",
              "      <th>2</th>\n",
              "      <td>Anjouan to Dzaoudzi A very small airline and...</td>\n",
              "      <td>0</td>\n",
              "    </tr>\n",
              "    <tr>\n",
              "      <th>3</th>\n",
              "      <td>Please do a favor yourself and do not fly wi...</td>\n",
              "      <td>0</td>\n",
              "    </tr>\n",
              "    <tr>\n",
              "      <th>4</th>\n",
              "      <td>Do not book a flight with this airline My fri...</td>\n",
              "      <td>0</td>\n",
              "    </tr>\n",
              "  </tbody>\n",
              "</table>\n",
              "</div>\n",
              "    <div class=\"colab-df-buttons\">\n",
              "\n",
              "  <div class=\"colab-df-container\">\n",
              "    <button class=\"colab-df-convert\" onclick=\"convertToInteractive('df-9b8ad571-343b-4253-b165-390370546313')\"\n",
              "            title=\"Convert this dataframe to an interactive table.\"\n",
              "            style=\"display:none;\">\n",
              "\n",
              "  <svg xmlns=\"http://www.w3.org/2000/svg\" height=\"24px\" viewBox=\"0 -960 960 960\">\n",
              "    <path d=\"M120-120v-720h720v720H120Zm60-500h600v-160H180v160Zm220 220h160v-160H400v160Zm0 220h160v-160H400v160ZM180-400h160v-160H180v160Zm440 0h160v-160H620v160ZM180-180h160v-160H180v160Zm440 0h160v-160H620v160Z\"/>\n",
              "  </svg>\n",
              "    </button>\n",
              "\n",
              "  <style>\n",
              "    .colab-df-container {\n",
              "      display:flex;\n",
              "      gap: 12px;\n",
              "    }\n",
              "\n",
              "    .colab-df-convert {\n",
              "      background-color: #E8F0FE;\n",
              "      border: none;\n",
              "      border-radius: 50%;\n",
              "      cursor: pointer;\n",
              "      display: none;\n",
              "      fill: #1967D2;\n",
              "      height: 32px;\n",
              "      padding: 0 0 0 0;\n",
              "      width: 32px;\n",
              "    }\n",
              "\n",
              "    .colab-df-convert:hover {\n",
              "      background-color: #E2EBFA;\n",
              "      box-shadow: 0px 1px 2px rgba(60, 64, 67, 0.3), 0px 1px 3px 1px rgba(60, 64, 67, 0.15);\n",
              "      fill: #174EA6;\n",
              "    }\n",
              "\n",
              "    .colab-df-buttons div {\n",
              "      margin-bottom: 4px;\n",
              "    }\n",
              "\n",
              "    [theme=dark] .colab-df-convert {\n",
              "      background-color: #3B4455;\n",
              "      fill: #D2E3FC;\n",
              "    }\n",
              "\n",
              "    [theme=dark] .colab-df-convert:hover {\n",
              "      background-color: #434B5C;\n",
              "      box-shadow: 0px 1px 3px 1px rgba(0, 0, 0, 0.15);\n",
              "      filter: drop-shadow(0px 1px 2px rgba(0, 0, 0, 0.3));\n",
              "      fill: #FFFFFF;\n",
              "    }\n",
              "  </style>\n",
              "\n",
              "    <script>\n",
              "      const buttonEl =\n",
              "        document.querySelector('#df-9b8ad571-343b-4253-b165-390370546313 button.colab-df-convert');\n",
              "      buttonEl.style.display =\n",
              "        google.colab.kernel.accessAllowed ? 'block' : 'none';\n",
              "\n",
              "      async function convertToInteractive(key) {\n",
              "        const element = document.querySelector('#df-9b8ad571-343b-4253-b165-390370546313');\n",
              "        const dataTable =\n",
              "          await google.colab.kernel.invokeFunction('convertToInteractive',\n",
              "                                                    [key], {});\n",
              "        if (!dataTable) return;\n",
              "\n",
              "        const docLinkHtml = 'Like what you see? Visit the ' +\n",
              "          '<a target=\"_blank\" href=https://colab.research.google.com/notebooks/data_table.ipynb>data table notebook</a>'\n",
              "          + ' to learn more about interactive tables.';\n",
              "        element.innerHTML = '';\n",
              "        dataTable['output_type'] = 'display_data';\n",
              "        await google.colab.output.renderOutput(dataTable, element);\n",
              "        const docLink = document.createElement('div');\n",
              "        docLink.innerHTML = docLinkHtml;\n",
              "        element.appendChild(docLink);\n",
              "      }\n",
              "    </script>\n",
              "  </div>\n",
              "\n",
              "\n",
              "<div id=\"df-3ebe72b2-b996-41b6-8132-8f11e606638b\">\n",
              "  <button class=\"colab-df-quickchart\" onclick=\"quickchart('df-3ebe72b2-b996-41b6-8132-8f11e606638b')\"\n",
              "            title=\"Suggest charts\"\n",
              "            style=\"display:none;\">\n",
              "\n",
              "<svg xmlns=\"http://www.w3.org/2000/svg\" height=\"24px\"viewBox=\"0 0 24 24\"\n",
              "     width=\"24px\">\n",
              "    <g>\n",
              "        <path d=\"M19 3H5c-1.1 0-2 .9-2 2v14c0 1.1.9 2 2 2h14c1.1 0 2-.9 2-2V5c0-1.1-.9-2-2-2zM9 17H7v-7h2v7zm4 0h-2V7h2v10zm4 0h-2v-4h2v4z\"/>\n",
              "    </g>\n",
              "</svg>\n",
              "  </button>\n",
              "\n",
              "<style>\n",
              "  .colab-df-quickchart {\n",
              "      --bg-color: #E8F0FE;\n",
              "      --fill-color: #1967D2;\n",
              "      --hover-bg-color: #E2EBFA;\n",
              "      --hover-fill-color: #174EA6;\n",
              "      --disabled-fill-color: #AAA;\n",
              "      --disabled-bg-color: #DDD;\n",
              "  }\n",
              "\n",
              "  [theme=dark] .colab-df-quickchart {\n",
              "      --bg-color: #3B4455;\n",
              "      --fill-color: #D2E3FC;\n",
              "      --hover-bg-color: #434B5C;\n",
              "      --hover-fill-color: #FFFFFF;\n",
              "      --disabled-bg-color: #3B4455;\n",
              "      --disabled-fill-color: #666;\n",
              "  }\n",
              "\n",
              "  .colab-df-quickchart {\n",
              "    background-color: var(--bg-color);\n",
              "    border: none;\n",
              "    border-radius: 50%;\n",
              "    cursor: pointer;\n",
              "    display: none;\n",
              "    fill: var(--fill-color);\n",
              "    height: 32px;\n",
              "    padding: 0;\n",
              "    width: 32px;\n",
              "  }\n",
              "\n",
              "  .colab-df-quickchart:hover {\n",
              "    background-color: var(--hover-bg-color);\n",
              "    box-shadow: 0 1px 2px rgba(60, 64, 67, 0.3), 0 1px 3px 1px rgba(60, 64, 67, 0.15);\n",
              "    fill: var(--button-hover-fill-color);\n",
              "  }\n",
              "\n",
              "  .colab-df-quickchart-complete:disabled,\n",
              "  .colab-df-quickchart-complete:disabled:hover {\n",
              "    background-color: var(--disabled-bg-color);\n",
              "    fill: var(--disabled-fill-color);\n",
              "    box-shadow: none;\n",
              "  }\n",
              "\n",
              "  .colab-df-spinner {\n",
              "    border: 2px solid var(--fill-color);\n",
              "    border-color: transparent;\n",
              "    border-bottom-color: var(--fill-color);\n",
              "    animation:\n",
              "      spin 1s steps(1) infinite;\n",
              "  }\n",
              "\n",
              "  @keyframes spin {\n",
              "    0% {\n",
              "      border-color: transparent;\n",
              "      border-bottom-color: var(--fill-color);\n",
              "      border-left-color: var(--fill-color);\n",
              "    }\n",
              "    20% {\n",
              "      border-color: transparent;\n",
              "      border-left-color: var(--fill-color);\n",
              "      border-top-color: var(--fill-color);\n",
              "    }\n",
              "    30% {\n",
              "      border-color: transparent;\n",
              "      border-left-color: var(--fill-color);\n",
              "      border-top-color: var(--fill-color);\n",
              "      border-right-color: var(--fill-color);\n",
              "    }\n",
              "    40% {\n",
              "      border-color: transparent;\n",
              "      border-right-color: var(--fill-color);\n",
              "      border-top-color: var(--fill-color);\n",
              "    }\n",
              "    60% {\n",
              "      border-color: transparent;\n",
              "      border-right-color: var(--fill-color);\n",
              "    }\n",
              "    80% {\n",
              "      border-color: transparent;\n",
              "      border-right-color: var(--fill-color);\n",
              "      border-bottom-color: var(--fill-color);\n",
              "    }\n",
              "    90% {\n",
              "      border-color: transparent;\n",
              "      border-bottom-color: var(--fill-color);\n",
              "    }\n",
              "  }\n",
              "</style>\n",
              "\n",
              "  <script>\n",
              "    async function quickchart(key) {\n",
              "      const quickchartButtonEl =\n",
              "        document.querySelector('#' + key + ' button');\n",
              "      quickchartButtonEl.disabled = true;  // To prevent multiple clicks.\n",
              "      quickchartButtonEl.classList.add('colab-df-spinner');\n",
              "      try {\n",
              "        const charts = await google.colab.kernel.invokeFunction(\n",
              "            'suggestCharts', [key], {});\n",
              "      } catch (error) {\n",
              "        console.error('Error during call to suggestCharts:', error);\n",
              "      }\n",
              "      quickchartButtonEl.classList.remove('colab-df-spinner');\n",
              "      quickchartButtonEl.classList.add('colab-df-quickchart-complete');\n",
              "    }\n",
              "    (() => {\n",
              "      let quickchartButtonEl =\n",
              "        document.querySelector('#df-3ebe72b2-b996-41b6-8132-8f11e606638b button');\n",
              "      quickchartButtonEl.style.display =\n",
              "        google.colab.kernel.accessAllowed ? 'block' : 'none';\n",
              "    })();\n",
              "  </script>\n",
              "</div>\n",
              "    </div>\n",
              "  </div>\n"
            ],
            "text/plain": [
              "                                              Review  Recommended\n",
              "0    Moroni to Moheli Turned out to be a pretty d...            1\n",
              "1   Moroni to Anjouan It is a very small airline ...            0\n",
              "2    Anjouan to Dzaoudzi A very small airline and...            0\n",
              "3    Please do a favor yourself and do not fly wi...            0\n",
              "4   Do not book a flight with this airline My fri...            0"
            ]
          },
          "execution_count": 181,
          "metadata": {},
          "output_type": "execute_result"
        }
      ],
      "source": [
        "bert_df.head()"
      ]
    },
    {
      "cell_type": "code",
      "execution_count": null,
      "metadata": {
        "id": "hzSWr4JHa39B"
      },
      "outputs": [],
      "source": [
        "#Preparing Training and Testing Data for Bert Model\n",
        "#Shuffling Records first\n",
        "bert_df = bert_df.sample(frac=1).reset_index(drop=True)\n",
        "\n",
        "import collections as cl\n",
        "#Splitting Dataset\n",
        "rec = cl.defaultdict(list)\n",
        "for i,j in bert_df.iterrows():\n",
        "  rec[j.Recommended].append(j.to_dict())\n",
        "\n",
        "\n",
        "#defining size\n",
        "train = 0.75\n",
        "val = 0.25\n",
        "split_list = []\n",
        "\n",
        "#shuffling and forming sets\n",
        "for i,j in sorted(rec.items()):\n",
        "  np.random.shuffle(j)\n",
        "\n",
        "  n_tot = len(j)\n",
        "  n_train = int(train * n_tot)\n",
        "  n_val = int(val * n_tot)\n",
        "\n",
        "  #Adding split attribute\n",
        "  for item in j[:n_train]:\n",
        "    item['split'] = 'train'\n",
        "\n",
        "  for item in j[n_train:n_train+n_val]:\n",
        "    item['split'] = 'val'\n",
        "\n",
        "\n",
        "  split_list.extend(j)\n",
        "\n",
        "new_bert_df = pd.DataFrame(split_list)\n",
        "\n"
      ]
    },
    {
      "cell_type": "code",
      "execution_count": null,
      "metadata": {
        "id": "86pQ56t0d-6T"
      },
      "outputs": [],
      "source": [
        "new_bert_df.head()"
      ]
    },
    {
      "cell_type": "code",
      "execution_count": null,
      "metadata": {
        "id": "BSED27n7eAsG"
      },
      "outputs": [],
      "source": [
        "new_bert_df.groupby(['Recommended','split']).size().unstack(level=1)\n",
        "a=new_bert_df.groupby(['Recommended','split']).size().unstack(level=1)\n",
        "a.plot(kind='bar')"
      ]
    },
    {
      "cell_type": "code",
      "execution_count": null,
      "metadata": {
        "id": "1LlUOSNZeVn-"
      },
      "outputs": [],
      "source": [
        "#Separating Training and Testing Data\n",
        "bert_df_train= new_bert_df[new_bert_df.split == 'train']\n",
        "bert_df_test= new_bert_df[new_bert_df.split == 'val']\n",
        "\n",
        "print('Shape of Training data: ', bert_df_train.shape)\n",
        "print('Shape of Validation data: ', bert_df_test.shape)"
      ]
    },
    {
      "cell_type": "code",
      "execution_count": null,
      "metadata": {
        "id": "x2EIsUz-fQig"
      },
      "outputs": [],
      "source": [
        "bert_df_train = bert_df_train.sample(frac=1).reset_index(drop=True)\n",
        "bert_df_test = bert_df_test.sample(frac=1).reset_index(drop=True)\n",
        "\n",
        "#Separating Review Text and Recommended Label\n",
        "text_train = bert_df_train.Review.values\n",
        "text_test = bert_df_test.Review.values\n",
        "\n",
        "lbl_train = bert_df_train.Recommended.values\n",
        "lbl_test = bert_df_test.Recommended.values"
      ]
    },
    {
      "cell_type": "code",
      "execution_count": null,
      "metadata": {
        "id": "nXiPrrDggxUl"
      },
      "outputs": [],
      "source": [
        "#Text Preprocessing- Tokenisation using BERT Tokeniser\n",
        "#Loading BERT Tokenizer\n",
        "tknsr= BertTokenizer.from_pretrained('bert-base-uncased', do_lower_case=True)\n",
        "\n",
        "#Creating input ids and attention masks\n",
        "def text_prep(text):\n",
        "  ip_id = []\n",
        "\n",
        "\n",
        "  for txt in text:\n",
        "    #prepend CLS token in beginning and SEP token in end\n",
        "    #Mapping tokens to ids\n",
        "    enc_txt = tknsr.encode(txt, add_special_tokens= True,\n",
        "                           truncation = True, max_length = 50)\n",
        "\n",
        "    ip_id.append(enc_txt) #storing all input ids\n",
        "\n",
        "  #padding sequences\n",
        "  ipt_ids = pad_sequences(ip_id, maxlen=50, dtype=\"long\",\n",
        "                            value=0, truncating=\"post\", padding=\"post\")\n",
        "\n",
        "  #Attention Masks\n",
        "  att_masks = []\n",
        "\n",
        "  for i_text in ipt_ids:\n",
        "    at_msk = [int(tokn_id > 0) for tokn_id in i_text]\n",
        "    #if token id= 0, mask should be padded to 0\n",
        "    #if token id is not zero, mask should be set to 1 since it is a real token\n",
        "\n",
        "    att_masks.append(at_msk)\n",
        "\n",
        "  return [ipt_ids, att_masks]\n",
        "\n",
        "\n",
        "\n"
      ]
    },
    {
      "cell_type": "code",
      "execution_count": null,
      "metadata": {
        "id": "b63mebRckEkx"
      },
      "outputs": [],
      "source": [
        "ip_ids_train, att_masks_train = text_prep(text_train)\n",
        "ip_ids_val, att_masks_val = text_prep(text_test)"
      ]
    },
    {
      "cell_type": "code",
      "execution_count": null,
      "metadata": {
        "id": "iBD6Zn86k8Yu"
      },
      "outputs": [],
      "source": [
        "#Analysing Oroginal Text and pre-processed Text\n",
        "print('Original Review: ', text_train[0])\n",
        "\n",
        "#Tokens of text.\n",
        "print('Tokenized Review: ', tknsr.tokenize(text_train[0]))\n",
        "\n",
        "#Ids.\n",
        "print('Token IDs: ', tknsr.convert_tokens_to_ids(tknsr.tokenize(text_train[0])))"
      ]
    },
    {
      "cell_type": "code",
      "execution_count": null,
      "metadata": {
        "id": "nm588XazlzSJ"
      },
      "outputs": [],
      "source": [
        "ip_ids_train.shape"
      ]
    },
    {
      "cell_type": "code",
      "execution_count": null,
      "metadata": {
        "id": "_ci1QyiDl3cJ"
      },
      "outputs": [],
      "source": [
        "#Creating Data Loaders using Torch Tensors\n",
        "train_inputs = torch.tensor(ip_ids_train)\n",
        "val_inputs = torch.tensor(ip_ids_val)\n",
        "\n",
        "train_masks = torch.tensor(att_masks_train)\n",
        "val_masks = torch.tensor(att_masks_val)\n",
        "\n",
        "train_labels = torch.tensor(lbl_train)\n",
        "val_labels = torch.tensor(lbl_test)\n",
        "\n",
        "#-----creating data loader-----\n",
        "batch_size= 16\n",
        "\n",
        "train_data = TensorDataset(train_inputs, train_masks, train_labels)\n",
        "train_sampler = RandomSampler(train_data)\n",
        "train_dataloader = DataLoader(train_data, sampler=train_sampler, batch_size=batch_size)\n",
        "\n",
        "\n",
        "val_data = TensorDataset(val_inputs, val_masks, val_labels)\n",
        "val_sampler = SequentialSampler(val_data)\n",
        "val_dataloader = DataLoader(val_data, sampler=val_sampler, batch_size=batch_size)\n"
      ]
    },
    {
      "cell_type": "code",
      "execution_count": null,
      "metadata": {
        "id": "lAH850-doOqL"
      },
      "outputs": [],
      "source": [
        "device = torch.device('cuda' if torch.cuda.is_available() else 'cpu')\n",
        "print(device)"
      ]
    },
    {
      "cell_type": "code",
      "execution_count": null,
      "metadata": {
        "id": "jknfr459obP5"
      },
      "outputs": [],
      "source": [
        "#Loading Bert model for Classification\n",
        "mdl= BertForSequenceClassification.from_pretrained(\n",
        "    \"bert-base-uncased\", #Using the 12-layer BERT model, with an uncased vocab.\n",
        "    num_labels = 2, #Since The number of output labels is 2.\n",
        "    output_attentions = False, # Whether the model returns attentions weights and hidden states.\n",
        "    output_hidden_states = False\n",
        ")\n",
        "\n",
        "mdl= mdl.to(device)"
      ]
    },
    {
      "cell_type": "code",
      "execution_count": null,
      "metadata": {
        "id": "DEcNskkipBUl"
      },
      "outputs": [],
      "source": [
        "#Setting Up Scheduler, Optimiser- Model Parameters\n",
        "optmsr = torch.optim.AdamW(mdl.parameters(), lr= 2e-5, eps= 1e-8)\n",
        "\n",
        "epochs = 5\n",
        "\n",
        "schdlr = get_linear_schedule_with_warmup(optmsr, num_warmup_steps=0,\n",
        "                                         num_training_steps= len(train_dataloader)* epochs)"
      ]
    },
    {
      "cell_type": "code",
      "execution_count": null,
      "metadata": {
        "id": "kIlk9VzBqWEA"
      },
      "outputs": [],
      "source": [
        "#Setting up performance metrics\n",
        "def f1_sc_fn(pred, lbls):\n",
        "  flat_pred = np.argmax(pred, axis=1).flatten()\n",
        "  flat_lbls = lbls.flatten()\n",
        "  return f1_score(flat_lbls, flat_pred, average='weighted')\n",
        "\n",
        "\n",
        "#lbl_dic = {'no':0,'yes':1}\n"
      ]
    },
    {
      "cell_type": "code",
      "execution_count": null,
      "metadata": {
        "id": "0mKQZzdirXSo"
      },
      "outputs": [],
      "source": [
        "#Defining evaluating model\n",
        "def evaluate(validation_dataloader):\n",
        "\n",
        "    mdl.eval()\n",
        "\n",
        "    tot_val_loss = 0\n",
        "    pred_value, actual_value = [], []\n",
        "\n",
        "    for btch in validation_dataloader:\n",
        "\n",
        "        bach = tuple(b.to(device) for b in btch)\n",
        "\n",
        "        inpt = {'input_ids':      bach[0],\n",
        "                  'attention_mask': bach[1],\n",
        "                  'labels':         bach[2],\n",
        "                 }\n",
        "\n",
        "        with torch.no_grad():\n",
        "            opt = mdl(**inpt)\n",
        "\n",
        "        los = opt[0]\n",
        "        logts = opt[1]\n",
        "        tot_val_loss += los.item()\n",
        "\n",
        "        logts = logts.detach().cpu().numpy()\n",
        "        lbl_ids = inpt['labels'].cpu().numpy()\n",
        "        pred_value.append(logts)\n",
        "        actual_value.append(lbl_ids)\n",
        "\n",
        "    avg_val_loss = tot_val_loss/len(validation_dataloader)\n",
        "    pred_value = np.concatenate(pred_value, axis=0)\n",
        "    actual_value = np.concatenate(actual_value, axis=0)\n",
        "\n",
        "    return avg_val_loss, pred_value, actual_value\n"
      ]
    },
    {
      "cell_type": "code",
      "execution_count": null,
      "metadata": {
        "id": "1uUs7ppss4km"
      },
      "outputs": [],
      "source": [
        "#Training and evaluating model\n",
        "for epoch in tqdm(range(1, epochs+1)):\n",
        "    mdl.train()\n",
        "    tot_train_loss = 0\n",
        "    prgres_bar = tqdm(train_dataloader, desc='Epoch {:1d}'.format(epoch), disable=False, leave=False)\n",
        "\n",
        "    for bach in prgres_bar:\n",
        "        mdl.zero_grad()  #backward pass\n",
        "        bach = tuple(bt.to(device) for bt in bach)\n",
        "        #Unpack the inputs from dataloader\n",
        "        inpt = {'input_ids':      bach[0],\n",
        "                  'attention_mask': bach[1],\n",
        "                  'labels':         bach[2],\n",
        "                 }\n",
        "        opt = mdl(**inpt) #forward pass\n",
        "\n",
        "        los = opt[0]\n",
        "        tot_train_loss += los.item()\n",
        "        los.backward()   #backward pass to calculate gradients\n",
        "\n",
        "        torch.nn.utils.clip_grad_norm_(mdl.parameters(), 1.0)\n",
        "        optmsr.step()\n",
        "        schdlr.step()\n",
        "        prgres_bar.set_postfix({'training_loss': '{:.3f}'.format(los.item()/len(bach))})\n",
        "\n",
        "    torch.save(mdl.state_dict(), f'finetuned_BERT_epoch_{epoch}.model')\n",
        "\n",
        "    tqdm.write(f'\\nEpoch {epoch}')\n",
        "\n",
        "    avg_train_loss = tot_train_loss/len(train_dataloader)\n",
        "    tqdm.write(f'Training loss: {avg_train_loss}')\n",
        "\n",
        "    #evaluating model\n",
        "    validation_loss, mdl_pred, act_val = evaluate(val_dataloader)\n",
        "    validation_f1 = f1_sc_fn(mdl_pred, act_val)\n",
        "    tqdm.write(f'Validation loss: {validation_loss}')\n",
        "    tqdm.write(f'F1 Score (Weighted): {validation_f1}')"
      ]
    },
    {
      "cell_type": "code",
      "execution_count": null,
      "metadata": {
        "id": "jFWjL3HkvFkZ"
      },
      "outputs": [],
      "source": [
        "loss, mdl_pred, act_val = evaluate(val_dataloader)"
      ]
    },
    {
      "cell_type": "code",
      "execution_count": null,
      "metadata": {
        "id": "7huuOYiHvUZF"
      },
      "outputs": [],
      "source": [
        "mdl_pred"
      ]
    },
    {
      "cell_type": "code",
      "execution_count": null,
      "metadata": {
        "id": "o9GBm29TvWlI"
      },
      "outputs": [],
      "source": [
        "act_val"
      ]
    },
    {
      "cell_type": "code",
      "execution_count": null,
      "metadata": {
        "id": "YbevAlKIvZmj"
      },
      "outputs": [],
      "source": [
        "print('Shape of True Values: ', act_val.shape)\n",
        "print('Shape of Predicted Values: ', mdl_pred.shape)"
      ]
    },
    {
      "cell_type": "code",
      "execution_count": null,
      "metadata": {
        "id": "CYFfXxDEv7e4"
      },
      "outputs": [],
      "source": [
        "#Flattening predicted values to obtain classification report and confusion matrix\n",
        "y_pred = np.argmax(mdl_pred, axis=1).flatten()\n",
        "print(classification_report(act_val, y_pred))"
      ]
    },
    {
      "cell_type": "code",
      "execution_count": null,
      "metadata": {
        "id": "9F4xipmswvJO"
      },
      "outputs": [],
      "source": [
        "#Generating Confusion Matrix\n",
        "cm_bert= confusion_matrix(act_val, y_pred)\n",
        "\n",
        "plt.rcParams['figure.figsize'] = (3, 3)\n",
        "sns.heatmap(cm_bert, cmap = 'Greens', annot = True, fmt = '.8g')\n",
        "\n",
        "plt.xlabel('Predicted Values')\n",
        "plt.ylabel('Actual Values')\n",
        "\n",
        "plt.show()"
      ]
    },
    {
      "cell_type": "code",
      "execution_count": null,
      "metadata": {
        "id": "5YrNiPkow7Hq"
      },
      "outputs": [],
      "source": [
        "#Visualising Results\n",
        "ipt_ids_list = []\n",
        "\n",
        "for bach in val_dataloader:\n",
        "    # Get input_ids tensor from the batch\n",
        "    ipt_ids = bach[0]\n",
        "    ipt_ids_list.append(ipt_ids)\n",
        "\n",
        "txt=[]\n",
        "for x in (ipt_ids_list):\n",
        "  for y in x:\n",
        "    tok=tknsr.convert_ids_to_tokens(y)\n",
        "    txt.append(tok)\n",
        "\n",
        "res_df=pd.DataFrame()\n",
        "res_df['Actual Label']= act_val\n",
        "res_df['Tokenised Text']=txt\n",
        "res_df['predictions']= y_pred\n",
        "\n",
        "res_df.head()"
      ]
    }
  ],
  "metadata": {
    "accelerator": "GPU",
    "colab": {
      "provenance": [],
      "include_colab_link": true
    },
    "kernelspec": {
      "display_name": "Python 3",
      "name": "python3"
    },
    "language_info": {
      "name": "python"
    }
  },
  "nbformat": 4,
  "nbformat_minor": 0
}